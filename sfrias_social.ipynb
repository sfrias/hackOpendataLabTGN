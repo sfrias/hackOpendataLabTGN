{
  "nbformat": 4,
  "nbformat_minor": 0,
  "metadata": {
    "colab": {
      "name": "sfrias_social.ipynb",
      "provenance": [],
      "collapsed_sections": [],
      "authorship_tag": "ABX9TyO31h33xLNPZJrreW/gOQAZ",
      "include_colab_link": true
    },
    "kernelspec": {
      "name": "python3",
      "display_name": "Python 3"
    },
    "language_info": {
      "name": "python"
    }
  },
  "cells": [
    {
      "cell_type": "markdown",
      "metadata": {
        "id": "view-in-github",
        "colab_type": "text"
      },
      "source": [
        "<a href=\"https://colab.research.google.com/github/sfrias/hackOpendataLabTGN/blob/main/sfrias_social.ipynb\" target=\"_parent\"><img src=\"https://colab.research.google.com/assets/colab-badge.svg\" alt=\"Open In Colab\"/></a>"
      ]
    },
    {
      "cell_type": "code",
      "metadata": {
        "id": "8FqqaqMk-Ef1"
      },
      "source": [
        "#! /usr/bin/env python\n",
        "# -*- coding: utf-8 -*-"
      ],
      "execution_count": null,
      "outputs": []
    },
    {
      "cell_type": "markdown",
      "metadata": {
        "id": "sRb_4EqkB-As"
      },
      "source": [
        "# Code License"
      ]
    },
    {
      "cell_type": "markdown",
      "metadata": {
        "id": "0Sl15Sy9B9rw"
      },
      "source": [
        "Authors(incremental for changes):\n",
        "- S.Frias (2021, March)\n",
        "\n",
        "Repo: https://github.com/sfrias/hackOpendataLabTGN/\n",
        "\n",
        "This code content is licensed under GPL 3.0 or any later version\n",
        "\n",
        "https://www.gnu.org/licenses/gpl-3.0.html\n",
        "\n",
        "Only way to make software development safe is to abolish software patents\n",
        "\n",
        "https://www.gnu.org/licenses/quick-guide-gplv3.html"
      ]
    },
    {
      "cell_type": "markdown",
      "metadata": {
        "id": "k4ycWn20CsF2"
      },
      "source": [
        "### Synthesis"
      ]
    },
    {
      "cell_type": "code",
      "metadata": {
        "id": "NhfDa9vKCVKg"
      },
      "source": [
        "# OpendataLab Tarragona stages.\n",
        "# Goal: knowledge about social impact related to COVID-19 issue.\n",
        "# Rules: use opendata sources, extract knowledge, and render results\n",
        "# First hack: Economic and social reactivation related of Covid-19 at Camp de Tarragona, Tarragona, Catalonia (ES)"
      ],
      "execution_count": null,
      "outputs": []
    },
    {
      "cell_type": "markdown",
      "metadata": {
        "id": "WCgNsBiEEo5G"
      },
      "source": [
        "### Utilities"
      ]
    },
    {
      "cell_type": "code",
      "metadata": {
        "id": "nJb9stncBiN9"
      },
      "source": [
        "# Import and package configuration\n",
        "from google.colab import files"
      ],
      "execution_count": null,
      "outputs": []
    },
    {
      "cell_type": "code",
      "metadata": {
        "id": "rOxT3b6uOmW4"
      },
      "source": [
        "# Montar unidad almacenamiento en cloud de Google colab\n",
        "#from google.colab import drive"
      ],
      "execution_count": null,
      "outputs": []
    },
    {
      "cell_type": "code",
      "metadata": {
        "id": "EMgKl7W8Onh8"
      },
      "source": [
        "#drive.mount('/gdrive')"
      ],
      "execution_count": null,
      "outputs": []
    },
    {
      "cell_type": "code",
      "metadata": {
        "id": "qXguwabuOrvP"
      },
      "source": [
        "#!ls -lah /gdrive/'My Drive'/"
      ],
      "execution_count": null,
      "outputs": []
    },
    {
      "cell_type": "code",
      "metadata": {
        "id": "hbETQ8ZiPDdi"
      },
      "source": [
        "# Subir desde drive a cloud de google para interaccionar con colab.\n",
        "#!cp drive/MyDrive/OpendataLabTGN/hack1/*.* ."
      ],
      "execution_count": null,
      "outputs": []
    },
    {
      "cell_type": "code",
      "metadata": {
        "id": "xlPuau1RBiCH"
      },
      "source": [
        "! ls -lah"
      ],
      "execution_count": null,
      "outputs": []
    },
    {
      "cell_type": "code",
      "metadata": {
        "id": "Wn4tFXWfWJ4a"
      },
      "source": [
        "# Tarragona: Tipologia de noticies"
      ],
      "execution_count": null,
      "outputs": []
    },
    {
      "cell_type": "code",
      "metadata": {
        "id": "YtDEfmneBhnm"
      },
      "source": [
        "!wget -O noticies.csv \"http://dadesobertes.seu-e.cat/csv/tarragona/00301.csv\""
      ],
      "execution_count": null,
      "outputs": []
    },
    {
      "cell_type": "code",
      "metadata": {
        "id": "gh4UBpnXNcfG"
      },
      "source": [
        "!ls -lah"
      ],
      "execution_count": null,
      "outputs": []
    },
    {
      "cell_type": "code",
      "metadata": {
        "id": "f2BEjZFCNwvS"
      },
      "source": [
        "! head noticies.csv"
      ],
      "execution_count": null,
      "outputs": []
    },
    {
      "cell_type": "code",
      "metadata": {
        "id": "omyvsdN1NwZI"
      },
      "source": [
        "! tail noticies.csv"
      ],
      "execution_count": null,
      "outputs": []
    },
    {
      "cell_type": "code",
      "metadata": {
        "id": "Dr2ThIuNWGgo"
      },
      "source": [
        "# Tarragona: Canvis de casa"
      ],
      "execution_count": null,
      "outputs": []
    },
    {
      "cell_type": "code",
      "metadata": {
        "id": "5n-TuC1CR_PU"
      },
      "source": [
        "!wget -O xcasaSxe.csv \"http://dadesobertes.seu-e.cat/csv/tarragona/00108.csv\""
      ],
      "execution_count": null,
      "outputs": []
    },
    {
      "cell_type": "code",
      "metadata": {
        "id": "UMkE6CZ7R_PY"
      },
      "source": [
        "!ls -lah"
      ],
      "execution_count": null,
      "outputs": []
    },
    {
      "cell_type": "code",
      "metadata": {
        "id": "mMFkFoetR_Pb"
      },
      "source": [
        "! head xcasaSxe.csv"
      ],
      "execution_count": null,
      "outputs": []
    },
    {
      "cell_type": "code",
      "metadata": {
        "id": "-BawHJlvR_Ph"
      },
      "source": [
        "! tail xcasaSxe.csv"
      ],
      "execution_count": null,
      "outputs": []
    },
    {
      "cell_type": "code",
      "metadata": {
        "id": "Og5MdPTrSA7t"
      },
      "source": [
        "!wget -O xcasaDtScc.csv \"http://dadesobertes.seu-e.cat/csv/tarragona/00106.csv\""
      ],
      "execution_count": null,
      "outputs": []
    },
    {
      "cell_type": "code",
      "metadata": {
        "id": "7-NOZHN5SA7u"
      },
      "source": [
        "!ls -lah"
      ],
      "execution_count": null,
      "outputs": []
    },
    {
      "cell_type": "code",
      "metadata": {
        "id": "HtKbJCw6SA7w"
      },
      "source": [
        "! head xcasaDtScc.csv"
      ],
      "execution_count": null,
      "outputs": []
    },
    {
      "cell_type": "code",
      "metadata": {
        "id": "31UeyyEiSA7y"
      },
      "source": [
        "! tail xcasaDtScc.csv"
      ],
      "execution_count": null,
      "outputs": []
    },
    {
      "cell_type": "code",
      "metadata": {
        "id": "pI_bWkxaV73p"
      },
      "source": [
        "# Tarragona: Actuacions brigada neteja davant denuncies."
      ],
      "execution_count": null,
      "outputs": []
    },
    {
      "cell_type": "code",
      "metadata": {
        "id": "SFsJQnFVT8Nz"
      },
      "source": [
        "!wget -O Bnet19.csv \"http://dadesobertes.seu-e.cat/csv/tarragona/00606.csv\""
      ],
      "execution_count": null,
      "outputs": []
    },
    {
      "cell_type": "code",
      "metadata": {
        "id": "8QMQ_GpJT8N0"
      },
      "source": [
        "!ls -lah"
      ],
      "execution_count": null,
      "outputs": []
    },
    {
      "cell_type": "code",
      "metadata": {
        "id": "9WgVUmjzT8N2"
      },
      "source": [
        "! head Bnet19.csv"
      ],
      "execution_count": null,
      "outputs": []
    },
    {
      "cell_type": "code",
      "metadata": {
        "id": "Zcxj-HTFT8N4"
      },
      "source": [
        "! tail Bnet19.csv"
      ],
      "execution_count": null,
      "outputs": []
    },
    {
      "cell_type": "code",
      "metadata": {
        "id": "UgroXDe9T9uB"
      },
      "source": [
        "!wget -O Bnet20.csv \"http://dadesobertes.seu-e.cat/csv/tarragona/00611.csv\""
      ],
      "execution_count": null,
      "outputs": []
    },
    {
      "cell_type": "code",
      "metadata": {
        "id": "FJ02yPSaT9uC"
      },
      "source": [
        "!ls -lah"
      ],
      "execution_count": null,
      "outputs": []
    },
    {
      "cell_type": "code",
      "metadata": {
        "id": "er17v3SRT9uE"
      },
      "source": [
        "! head Bnet20.csv"
      ],
      "execution_count": null,
      "outputs": []
    },
    {
      "cell_type": "code",
      "metadata": {
        "id": "5gnlnO_QT9uF"
      },
      "source": [
        "! tail Bnet20.csv"
      ],
      "execution_count": null,
      "outputs": []
    },
    {
      "cell_type": "code",
      "metadata": {
        "id": "6w1D54JLT-TC"
      },
      "source": [
        "!wget -O Bnet21.csv \"http://dadesobertes.seu-e.cat/csv/tarragona/00612.csv\""
      ],
      "execution_count": null,
      "outputs": []
    },
    {
      "cell_type": "code",
      "metadata": {
        "id": "8A9JQlQJT-TG"
      },
      "source": [
        "!ls -lah"
      ],
      "execution_count": null,
      "outputs": []
    },
    {
      "cell_type": "code",
      "metadata": {
        "id": "bqIN0zdeT-TG"
      },
      "source": [
        "! head Bnet21.csv"
      ],
      "execution_count": null,
      "outputs": []
    },
    {
      "cell_type": "code",
      "metadata": {
        "id": "8PB-3doST-TI"
      },
      "source": [
        "! tail Bnet21.csv"
      ],
      "execution_count": null,
      "outputs": []
    },
    {
      "cell_type": "code",
      "metadata": {
        "id": "5SvmQWJTVlIy"
      },
      "source": [
        "# Tarragona: Hauria estat be poder comparar lagenda d'activitats amb el històric de les mateixes que no s'ha trobat"
      ],
      "execution_count": null,
      "outputs": []
    },
    {
      "cell_type": "code",
      "metadata": {
        "id": "Z2ji1uRuT-5p"
      },
      "source": [
        "!wget -O xcasaDtScc.csv \"http://dadesobertes.seu-e.cat/csv/tarragona/00106.csv\""
      ],
      "execution_count": null,
      "outputs": []
    },
    {
      "cell_type": "code",
      "metadata": {
        "id": "F_qtGs0WT-5q"
      },
      "source": [
        "!ls -lah"
      ],
      "execution_count": null,
      "outputs": []
    },
    {
      "cell_type": "code",
      "metadata": {
        "id": "DHTGFxe7T-5r"
      },
      "source": [
        "! head xcasaDtScc.csv"
      ],
      "execution_count": null,
      "outputs": []
    },
    {
      "cell_type": "code",
      "metadata": {
        "id": "oMMdHig7T-5r"
      },
      "source": [
        "! tail xcasaDtScc.csv"
      ],
      "execution_count": null,
      "outputs": []
    },
    {
      "cell_type": "code",
      "metadata": {
        "id": "du6iQ0zqT_H5"
      },
      "source": [
        "!wget -O xcasaDtScc.csv \"http://dadesobertes.seu-e.cat/csv/tarragona/00106.csv\""
      ],
      "execution_count": null,
      "outputs": []
    },
    {
      "cell_type": "code",
      "metadata": {
        "id": "qWZbPOM_T_H6"
      },
      "source": [
        "!ls -lah"
      ],
      "execution_count": null,
      "outputs": []
    },
    {
      "cell_type": "code",
      "metadata": {
        "id": "Un0i-jBHT_H8"
      },
      "source": [
        "! head xcasaDtScc.csv"
      ],
      "execution_count": null,
      "outputs": []
    },
    {
      "cell_type": "code",
      "metadata": {
        "id": "lTkQvAteT_IB"
      },
      "source": [
        "! tail xcasaDtScc.csv"
      ],
      "execution_count": null,
      "outputs": []
    },
    {
      "cell_type": "code",
      "metadata": {
        "id": "inX4P_tYT_Xi"
      },
      "source": [
        "!wget -O xcasaDtScc.csv \"http://dadesobertes.seu-e.cat/csv/tarragona/00106.csv\""
      ],
      "execution_count": null,
      "outputs": []
    },
    {
      "cell_type": "code",
      "metadata": {
        "id": "Im0Tzf5qT_Xj"
      },
      "source": [
        "!ls -lah"
      ],
      "execution_count": null,
      "outputs": []
    },
    {
      "cell_type": "code",
      "metadata": {
        "id": "VZBnLE57T_Xj"
      },
      "source": [
        "! head xcasaDtScc.csv"
      ],
      "execution_count": null,
      "outputs": []
    },
    {
      "cell_type": "code",
      "metadata": {
        "id": "UmrDoWGOT_Xl"
      },
      "source": [
        "! tail xcasaDtScc.csv"
      ],
      "execution_count": null,
      "outputs": []
    }
  ]
}