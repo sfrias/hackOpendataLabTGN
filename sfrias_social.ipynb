{
  "nbformat": 4,
  "nbformat_minor": 0,
  "metadata": {
    "colab": {
      "name": "sfrias_social.ipynb",
      "provenance": [],
      "collapsed_sections": [],
      "authorship_tag": "ABX9TyPaKu3W+zNMNbBkV9lDzrV5",
      "include_colab_link": true
    },
    "kernelspec": {
      "name": "python3",
      "display_name": "Python 3"
    },
    "language_info": {
      "name": "python"
    }
  },
  "cells": [
    {
      "cell_type": "markdown",
      "metadata": {
        "id": "view-in-github",
        "colab_type": "text"
      },
      "source": [
        "<a href=\"https://colab.research.google.com/github/sfrias/hackOpendataLabTGN/blob/main/sfrias_social.ipynb\" target=\"_parent\"><img src=\"https://colab.research.google.com/assets/colab-badge.svg\" alt=\"Open In Colab\"/></a>"
      ]
    },
    {
      "cell_type": "code",
      "metadata": {
        "id": "8FqqaqMk-Ef1"
      },
      "source": [
        "#! /usr/bin/env python\n",
        "# -*- coding: utf-8 -*-"
      ],
      "execution_count": null,
      "outputs": []
    },
    {
      "cell_type": "markdown",
      "metadata": {
        "id": "sRb_4EqkB-As"
      },
      "source": [
        "# Code License"
      ]
    },
    {
      "cell_type": "markdown",
      "metadata": {
        "id": "0Sl15Sy9B9rw"
      },
      "source": [
        "Authors(incremental for changes):\n",
        "- S.Frias (2021, March)\n",
        "\n",
        "Stakeholders:\n",
        "- Núria Sicart (2021, March)\n",
        "- Judit Cervelló (2021, March)\n",
        "\n",
        "Repo: https://github.com/sfrias/hackOpendataLabTGN/\n",
        "\n",
        "This code content is licensed under GPL 3.0 or any later version\n",
        "\n",
        "https://www.gnu.org/licenses/gpl-3.0.html\n",
        "\n",
        "Only way to make software development safe is to abolish software patents\n",
        "\n",
        "https://www.gnu.org/licenses/quick-guide-gplv3.html\n",
        "\n",
        "Data sources: Open Data, Creative Commons by attribution.\n",
        "\n",
        "Rules: Article 8, Law 37/2007, of 16 November, reuse of public sector information.\n",
        "- Do not distort the meaning of the information or alter its content.\n",
        "- The source of the data must be cited.\n",
        "- Mention must be made of the date of the last update of the information."
      ]
    },
    {
      "cell_type": "markdown",
      "metadata": {
        "id": "k4ycWn20CsF2"
      },
      "source": [
        "### Synthesis"
      ]
    },
    {
      "cell_type": "code",
      "metadata": {
        "id": "NhfDa9vKCVKg"
      },
      "source": [
        "#  OpendataLab Tarragona Reus stages.\n",
        "#  Goal: knowledge about social impact related to COVID-19 issue.\n",
        "#  Rules: use opendata sources, extract knowledge, and render results\n",
        "#  First hack: Economic and social reactivation related of Covid-19 at Camp de Tarragona.\n",
        "#  Location: Virtual Datalab Reus and Tarragona, Catalonia (ES)"
      ],
      "execution_count": null,
      "outputs": []
    },
    {
      "cell_type": "code",
      "metadata": {
        "id": "S73IrTgtJXt3"
      },
      "source": [
        "# Development of first Session.\n",
        "#\n",
        "#  Stakeholders are concerned about the use of resources granted to alleviate\n",
        "# the social, economic and labor consequences of confinement situations\n",
        "# derived from the pandemics associated with SARS-CoV2\n",
        "#\n",
        "#  In their thinking appears the concept of creating a reactivation system,\n",
        "# more focused on policies that generate the greatest possible impact,\n",
        "# on one hand, with special consideration of sustainable activities,\n",
        "# and on the other hand with the concept of resource transfer,\n",
        "# and accountability objective way.\n",
        "#\n",
        "#  For this last aspect, the incidence of these policies should be quantified and evaluated,\n",
        "# all of this setting up a scenario that builds a temporal model (past, present, future),\n",
        "# on which to correlate the actions of each chosen policy, with the change or maintenance\n",
        "# of certain indicators, magnitudes or evolution parameters, and detect in an anticipated way,\n",
        "# or at an early moment a behavior that is not expected, using updates of related opendata datasets."
      ],
      "execution_count": null,
      "outputs": []
    },
    {
      "cell_type": "markdown",
      "metadata": {
        "id": "WCgNsBiEEo5G"
      },
      "source": [
        "### Utilities"
      ]
    },
    {
      "cell_type": "code",
      "metadata": {
        "id": "nJb9stncBiN9"
      },
      "source": [
        "# Import and package configuration\n",
        "from google.colab import files"
      ],
      "execution_count": null,
      "outputs": []
    },
    {
      "cell_type": "code",
      "metadata": {
        "id": "rOxT3b6uOmW4"
      },
      "source": [
        "# Mount storage unit on  en Google Colab cloud\n",
        "from google.colab import drive\n",
        "#drive.mount('/gdrive')"
      ],
      "execution_count": null,
      "outputs": []
    },
    {
      "cell_type": "code",
      "metadata": {
        "id": "qXguwabuOrvP"
      },
      "source": [
        "# List Google Drive associated  path\n",
        "#!ls -lah /gdrive/'My Drive'/"
      ],
      "execution_count": null,
      "outputs": []
    },
    {
      "cell_type": "code",
      "metadata": {
        "id": "hbETQ8ZiPDdi"
      },
      "source": [
        "# Upload from Google Drive to Colab some data files stored at folder to colab interaction after\n",
        "#!cp /gdrive/MyDrive/OpendataLabTGN/hack1/*.* ."
      ],
      "execution_count": null,
      "outputs": []
    },
    {
      "cell_type": "code",
      "metadata": {
        "id": "xlPuau1RBiCH"
      },
      "source": [
        "! ls -lah"
      ],
      "execution_count": null,
      "outputs": []
    },
    {
      "cell_type": "markdown",
      "metadata": {
        "id": "GVBPWuOcyww2"
      },
      "source": [
        "### Home Changes"
      ]
    },
    {
      "cell_type": "code",
      "metadata": {
        "id": "Dr2ThIuNWGgo"
      },
      "source": [
        "# Tarragona: Canvis de casa"
      ],
      "execution_count": null,
      "outputs": []
    },
    {
      "cell_type": "code",
      "metadata": {
        "id": "5n-TuC1CR_PU"
      },
      "source": [
        "!wget -O xcasaSxe.csv \"http://dadesobertes.seu-e.cat/csv/tarragona/00108.csv\""
      ],
      "execution_count": null,
      "outputs": []
    },
    {
      "cell_type": "code",
      "metadata": {
        "id": "UMkE6CZ7R_PY"
      },
      "source": [
        "!ls -lah"
      ],
      "execution_count": null,
      "outputs": []
    },
    {
      "cell_type": "code",
      "metadata": {
        "id": "mMFkFoetR_Pb"
      },
      "source": [
        "! head xcasaSxe.csv"
      ],
      "execution_count": null,
      "outputs": []
    },
    {
      "cell_type": "code",
      "metadata": {
        "id": "-BawHJlvR_Ph"
      },
      "source": [
        "! tail xcasaSxe.csv"
      ],
      "execution_count": null,
      "outputs": []
    },
    {
      "cell_type": "code",
      "metadata": {
        "id": "Og5MdPTrSA7t"
      },
      "source": [
        "!wget -O xcasaDtScc.csv \"http://dadesobertes.seu-e.cat/csv/tarragona/00106.csv\""
      ],
      "execution_count": null,
      "outputs": []
    },
    {
      "cell_type": "code",
      "metadata": {
        "id": "7-NOZHN5SA7u"
      },
      "source": [
        "!ls -lah"
      ],
      "execution_count": null,
      "outputs": []
    },
    {
      "cell_type": "code",
      "metadata": {
        "id": "HtKbJCw6SA7w"
      },
      "source": [
        "! head xcasaDtScc.csv"
      ],
      "execution_count": null,
      "outputs": []
    },
    {
      "cell_type": "code",
      "metadata": {
        "id": "31UeyyEiSA7y"
      },
      "source": [
        "! tail xcasaDtScc.csv"
      ],
      "execution_count": null,
      "outputs": []
    },
    {
      "cell_type": "markdown",
      "metadata": {
        "id": "y3iD28fVy4Xf"
      },
      "source": [
        "### Conflict, discontent\n",
        "\n",
        "Sanctions on restrictions related to covid and authority\n",
        "\n",
        "Complaints vs Actions"
      ]
    },
    {
      "cell_type": "code",
      "metadata": {
        "id": "pI_bWkxaV73p"
      },
      "source": [
        "# Tarragona: Actuacions brigada neteja davant denuncies."
      ],
      "execution_count": null,
      "outputs": []
    },
    {
      "cell_type": "code",
      "metadata": {
        "id": "SFsJQnFVT8Nz"
      },
      "source": [
        "!wget -O Bnet19.csv \"http://dadesobertes.seu-e.cat/csv/tarragona/00606.csv\""
      ],
      "execution_count": null,
      "outputs": []
    },
    {
      "cell_type": "code",
      "metadata": {
        "id": "8QMQ_GpJT8N0"
      },
      "source": [
        "!ls -lah"
      ],
      "execution_count": null,
      "outputs": []
    },
    {
      "cell_type": "code",
      "metadata": {
        "id": "9WgVUmjzT8N2"
      },
      "source": [
        "! head Bnet19.csv"
      ],
      "execution_count": null,
      "outputs": []
    },
    {
      "cell_type": "code",
      "metadata": {
        "id": "Zcxj-HTFT8N4"
      },
      "source": [
        "! tail Bnet19.csv"
      ],
      "execution_count": null,
      "outputs": []
    },
    {
      "cell_type": "code",
      "metadata": {
        "id": "UgroXDe9T9uB"
      },
      "source": [
        "!wget -O Bnet20.csv \"http://dadesobertes.seu-e.cat/csv/tarragona/00611.csv\""
      ],
      "execution_count": null,
      "outputs": []
    },
    {
      "cell_type": "code",
      "metadata": {
        "id": "FJ02yPSaT9uC"
      },
      "source": [
        "!ls -lah"
      ],
      "execution_count": null,
      "outputs": []
    },
    {
      "cell_type": "code",
      "metadata": {
        "id": "er17v3SRT9uE"
      },
      "source": [
        "! head Bnet20.csv"
      ],
      "execution_count": null,
      "outputs": []
    },
    {
      "cell_type": "code",
      "metadata": {
        "id": "5gnlnO_QT9uF"
      },
      "source": [
        "! tail Bnet20.csv"
      ],
      "execution_count": null,
      "outputs": []
    },
    {
      "cell_type": "code",
      "metadata": {
        "id": "6w1D54JLT-TC"
      },
      "source": [
        "!wget -O Bnet21.csv \"http://dadesobertes.seu-e.cat/csv/tarragona/00612.csv\""
      ],
      "execution_count": null,
      "outputs": []
    },
    {
      "cell_type": "code",
      "metadata": {
        "id": "8A9JQlQJT-TG"
      },
      "source": [
        "!ls -lah"
      ],
      "execution_count": null,
      "outputs": []
    },
    {
      "cell_type": "code",
      "metadata": {
        "id": "bqIN0zdeT-TG"
      },
      "source": [
        "! head Bnet21.csv"
      ],
      "execution_count": null,
      "outputs": []
    },
    {
      "cell_type": "code",
      "metadata": {
        "id": "8PB-3doST-TI"
      },
      "source": [
        "! tail Bnet21.csv"
      ],
      "execution_count": null,
      "outputs": []
    },
    {
      "cell_type": "markdown",
      "metadata": {
        "id": "M7pw44X8z_vj"
      },
      "source": [
        "### Cultural activities evolution"
      ]
    },
    {
      "cell_type": "code",
      "metadata": {
        "id": "5SvmQWJTVlIy"
      },
      "source": [
        "# Tarragona: Hauria estat be poder comparar l agenda d'activitats culturals  amb el històric de les mateixes que no s'ha trobat"
      ],
      "execution_count": null,
      "outputs": []
    },
    {
      "cell_type": "markdown",
      "metadata": {
        "id": "ieF6OV6K0Lv6"
      },
      "source": [
        "### Budget"
      ]
    },
    {
      "cell_type": "code",
      "metadata": {
        "id": "LB-q0tc7YHBo"
      },
      "source": [
        "# Tarragona: Cens i despeses per habitant"
      ],
      "execution_count": null,
      "outputs": []
    },
    {
      "cell_type": "code",
      "metadata": {
        "id": "Z2ji1uRuT-5p"
      },
      "source": [
        "!wget -O gesEcEns.csv \"https://seu-e.cat/ca/web/tarragona/dades-obertes?p_p_id=aoctransparenciadadesobertes_WAR_aoctransparenciaportlet&p_p_lifecycle=2&p_p_state=normal&p_p_mode=view&p_p_cacheability=cacheLevelPage&p_p_col_id=column-1&p_p_col_count=1&_aoctransparenciadadesobertes_WAR_aoctransparenciaportlet_filterEns=CODI_ENS%253A4314820002&_aoctransparenciadadesobertes_WAR_aoctransparenciaportlet_resourceId=16416882-d418-4be6-9b82-ceb398bd60f8&_aoctransparenciadadesobertes_WAR_aoctransparenciaportlet_cmd=downloadEnsCSV&_aoctransparenciadadesobertes_WAR_aoctransparenciaportlet_resourceName=Resum+indicadors+gesti%C3%B3+econ%C3%B2mica+per+ens&_aoctransparenciadadesobertes_WAR_aoctransparenciaportlet_mvcPath=%2Fhtml%2Ftransparenciadadesobertes%2FdatasetResource.jsp\""
      ],
      "execution_count": null,
      "outputs": []
    },
    {
      "cell_type": "code",
      "metadata": {
        "id": "F_qtGs0WT-5q"
      },
      "source": [
        "!ls -lah"
      ],
      "execution_count": null,
      "outputs": []
    },
    {
      "cell_type": "code",
      "metadata": {
        "id": "DHTGFxe7T-5r"
      },
      "source": [
        "! head gesEcEns.csv"
      ],
      "execution_count": null,
      "outputs": []
    },
    {
      "cell_type": "code",
      "metadata": {
        "id": "oMMdHig7T-5r"
      },
      "source": [
        "! tail gesEcEns.csv"
      ],
      "execution_count": null,
      "outputs": []
    },
    {
      "cell_type": "code",
      "metadata": {
        "id": "ajIRab2DfswL"
      },
      "source": [
        "# Pressupostos dels ens municipals de Catalunya per any tipus partida i classificació"
      ],
      "execution_count": null,
      "outputs": []
    },
    {
      "cell_type": "code",
      "metadata": {
        "id": "du6iQ0zqT_H5"
      },
      "source": [
        "!wget -O prptEnsCat.csv \"https://analisi.transparenciacatalunya.cat/api/views/4g9s-gzp6/rows.csv?accessType=DOWNLOAD&sorting=true\""
      ],
      "execution_count": null,
      "outputs": []
    },
    {
      "cell_type": "code",
      "metadata": {
        "id": "qWZbPOM_T_H6"
      },
      "source": [
        "!ls -lah"
      ],
      "execution_count": null,
      "outputs": []
    },
    {
      "cell_type": "code",
      "metadata": {
        "id": "Un0i-jBHT_H8"
      },
      "source": [
        "! head prptEnsCat.csv"
      ],
      "execution_count": null,
      "outputs": []
    },
    {
      "cell_type": "code",
      "metadata": {
        "id": "lTkQvAteT_IB"
      },
      "source": [
        "! tail prptEnsCat.csv"
      ],
      "execution_count": null,
      "outputs": []
    },
    {
      "cell_type": "markdown",
      "metadata": {
        "id": "KadNELgVBdam"
      },
      "source": [
        "### Commercial business"
      ]
    },
    {
      "cell_type": "code",
      "metadata": {
        "id": "gb3z3ZGrgQKB"
      },
      "source": [
        "# Cens d'establiments comercials de Catalunya\n",
        "# https://analisi.transparenciacatalunya.cat/Economia/Servei-de-consulta-del-Cens-d-establiments-comerci/2dhj-q3r8"
      ],
      "execution_count": null,
      "outputs": []
    },
    {
      "cell_type": "code",
      "metadata": {
        "id": "inX4P_tYT_Xi"
      },
      "source": [
        "!wget -O CECC_Cat.csv \"https://analisi.transparenciacatalunya.cat/api/views/2dhj-q3r8/rows.csv?accessType=DOWNLOAD&sorting=true\""
      ],
      "execution_count": null,
      "outputs": []
    },
    {
      "cell_type": "code",
      "metadata": {
        "id": "Im0Tzf5qT_Xj"
      },
      "source": [
        "!ls -lah"
      ],
      "execution_count": null,
      "outputs": []
    },
    {
      "cell_type": "code",
      "metadata": {
        "id": "VZBnLE57T_Xj"
      },
      "source": [
        "! head CECC_Cat.csv"
      ],
      "execution_count": null,
      "outputs": []
    },
    {
      "cell_type": "code",
      "metadata": {
        "id": "UmrDoWGOT_Xl"
      },
      "source": [
        "! tail CECC_Cat.csv"
      ],
      "execution_count": null,
      "outputs": []
    },
    {
      "cell_type": "code",
      "metadata": {
        "id": "aYmXXNnEiIGQ"
      },
      "source": [
        "# Oferta comercial per activitats\n",
        "# https://analisi.transparenciacatalunya.cat/Economia/Servei-de-consulta-de-l-oferta-comercial-per-activ/8my5-y3qb"
      ],
      "execution_count": null,
      "outputs": []
    },
    {
      "cell_type": "code",
      "metadata": {
        "id": "piYmkinYiI8R"
      },
      "source": [
        "!wget -O ofComAct.csv \"https://analisi.transparenciacatalunya.cat/api/views/8my5-y3qb/rows.csv?accessType=DOWNLOAD&sorting=true\""
      ],
      "execution_count": null,
      "outputs": []
    },
    {
      "cell_type": "code",
      "metadata": {
        "id": "vsKZALTCiI8T"
      },
      "source": [
        "!ls -lah"
      ],
      "execution_count": null,
      "outputs": []
    },
    {
      "cell_type": "code",
      "metadata": {
        "id": "9DGRonqIiI8U"
      },
      "source": [
        "! head ofComAct.csv"
      ],
      "execution_count": null,
      "outputs": []
    },
    {
      "cell_type": "code",
      "metadata": {
        "id": "HaL2vwsEiI8W"
      },
      "source": [
        "! tail ofComAct.csv"
      ],
      "execution_count": null,
      "outputs": []
    },
    {
      "cell_type": "code",
      "metadata": {
        "id": "MHgNyPdFiO8I"
      },
      "source": [
        "# Empreses i establiments, per sector i assalariats\n",
        "# https://idescat.cat/pub/?id=ee"
      ],
      "execution_count": null,
      "outputs": []
    },
    {
      "cell_type": "code",
      "metadata": {
        "id": "r11NjUS0iO8K"
      },
      "source": [
        "# Any 2020\n",
        "!wget -O estblSecTreb20.csv \"https://idescat.cat/pub/?id=ee&n=10919&t=202000&f=csv\""
      ],
      "execution_count": null,
      "outputs": []
    },
    {
      "cell_type": "code",
      "metadata": {
        "id": "SxjDVVLXm8YR"
      },
      "source": [
        "! head gestblSecTreb20.csv"
      ],
      "execution_count": null,
      "outputs": []
    },
    {
      "cell_type": "code",
      "metadata": {
        "id": "Z_oWt9Ssm8YU"
      },
      "source": [
        "! tail gestblSecTreb20.csv"
      ],
      "execution_count": null,
      "outputs": []
    },
    {
      "cell_type": "code",
      "metadata": {
        "id": "jZVQcEBllwR2"
      },
      "source": [
        "# Any 2019\n",
        "!wget -O estblSecTreb19.csv \"https://idescat.cat/pub/?id=ee&n=10919&t=201900&f=csv\""
      ],
      "execution_count": null,
      "outputs": []
    },
    {
      "cell_type": "code",
      "metadata": {
        "id": "-5iV18nzm-E6"
      },
      "source": [
        "! head estblSecTreb19.csv"
      ],
      "execution_count": null,
      "outputs": []
    },
    {
      "cell_type": "code",
      "metadata": {
        "id": "1ywkptPCm-E8"
      },
      "source": [
        "! tail estblSecTreb19.csv"
      ],
      "execution_count": null,
      "outputs": []
    },
    {
      "cell_type": "code",
      "metadata": {
        "id": "H4QpJJjgl1MG"
      },
      "source": [
        "# Any 2018\n",
        "!wget -O estblSecTreb18.csv \"https://idescat.cat/pub/?id=ee&n=10919&t=201800&f=csv\""
      ],
      "execution_count": null,
      "outputs": []
    },
    {
      "cell_type": "code",
      "metadata": {
        "id": "CLrVpEaunB1v"
      },
      "source": [
        "! head estblSecTreb18.csv"
      ],
      "execution_count": null,
      "outputs": []
    },
    {
      "cell_type": "code",
      "metadata": {
        "id": "E7EeKKYlnB1x"
      },
      "source": [
        "! tail estblSecTreb18.csv"
      ],
      "execution_count": null,
      "outputs": []
    },
    {
      "cell_type": "code",
      "metadata": {
        "id": "XBxJv-iqiO8L"
      },
      "source": [
        "!ls -lah"
      ],
      "execution_count": null,
      "outputs": []
    },
    {
      "cell_type": "code",
      "metadata": {
        "id": "Ts7w0Iq6Siw1"
      },
      "source": [
        "# Reus: Cens d'activitats econòmiques i de negocis\n",
        "# https://opendata.reus.cat/dataset/cens-dactivitats-de-la-ciutat-de-reus"
      ],
      "execution_count": null,
      "outputs": []
    },
    {
      "cell_type": "code",
      "metadata": {
        "colab": {
          "base_uri": "https://localhost:8080/"
        },
        "id": "qiljJ-P3Siw5",
        "outputId": "7148c4d0-7e14-466d-fa6d-e8de6f6c91bc"
      },
      "source": [
        "# Llistat actual\n",
        "!wget --no-check-certificate -O actEcnReus.csv \"https://opendata.reus.cat/datastore/dump/dcaf22c4-d1ac-4c64-955f-422071a54e54?format=csv&bom=true\""
      ],
      "execution_count": 2,
      "outputs": [
        {
          "output_type": "stream",
          "text": [
            "--2021-03-25 21:35:59--  https://opendata.reus.cat/datastore/dump/dcaf22c4-d1ac-4c64-955f-422071a54e54?format=csv&bom=true\n",
            "Resolving opendata.reus.cat (opendata.reus.cat)... 213.0.28.29\n",
            "Connecting to opendata.reus.cat (opendata.reus.cat)|213.0.28.29|:443... connected.\n",
            "WARNING: cannot verify opendata.reus.cat's certificate, issued by ‘CN=Sectigo RSA Organization Validation Secure Server CA,O=Sectigo Limited,L=Salford,ST=Greater Manchester,C=GB’:\n",
            "  Unable to locally verify the issuer's authority.\n",
            "HTTP request sent, awaiting response... 200 OK\n",
            "Length: unspecified [text/csv]\n",
            "Saving to: ‘actEcnReus.csv’\n",
            "\n",
            "actEcnReus.csv          [             <=>    ]   1.33M   286KB/s    in 4.8s    \n",
            "\n",
            "2021-03-25 21:36:05 (286 KB/s) - ‘actEcnReus.csv’ saved [1395291]\n",
            "\n"
          ],
          "name": "stdout"
        }
      ]
    },
    {
      "cell_type": "code",
      "metadata": {
        "colab": {
          "base_uri": "https://localhost:8080/"
        },
        "id": "vyjSL5dSThfa",
        "outputId": "d39d5068-06a5-487e-b7cf-3fde69a39d93"
      },
      "source": [
        "# Historic d'activitats\n",
        "!wget --no-check-certificate -O actEcnReusHist.csv \"https://opendata.reus.cat/datastore/dump/bb592690-77fb-41ff-b2d1-142972125b7c?format=csv&bom=true\""
      ],
      "execution_count": 3,
      "outputs": [
        {
          "output_type": "stream",
          "text": [
            "--2021-03-25 21:36:16--  https://opendata.reus.cat/datastore/dump/bb592690-77fb-41ff-b2d1-142972125b7c?format=csv&bom=true\n",
            "Resolving opendata.reus.cat (opendata.reus.cat)... 213.0.28.29\n",
            "Connecting to opendata.reus.cat (opendata.reus.cat)|213.0.28.29|:443... connected.\n",
            "WARNING: cannot verify opendata.reus.cat's certificate, issued by ‘CN=Sectigo RSA Organization Validation Secure Server CA,O=Sectigo Limited,L=Salford,ST=Greater Manchester,C=GB’:\n",
            "  Unable to locally verify the issuer's authority.\n",
            "HTTP request sent, awaiting response... 200 OK\n",
            "Length: unspecified [text/csv]\n",
            "Saving to: ‘actEcnReusHist.csv’\n",
            "\n",
            "actEcnReusHist.csv      [  <=>               ]   3.57M   229KB/s    in 19s     \n",
            "\n",
            "2021-03-25 21:36:37 (188 KB/s) - ‘actEcnReusHist.csv’ saved [3746960]\n",
            "\n"
          ],
          "name": "stdout"
        }
      ]
    },
    {
      "cell_type": "code",
      "metadata": {
        "colab": {
          "base_uri": "https://localhost:8080/"
        },
        "id": "dLt4zXHGSiw7",
        "outputId": "9654f616-d020-42d7-8e23-ef7e40846c42"
      },
      "source": [
        "!ls -lah"
      ],
      "execution_count": 4,
      "outputs": [
        {
          "output_type": "stream",
          "text": [
            "total 5.0M\n",
            "drwxr-xr-x 1 root root 4.0K Mar 25 21:36 .\n",
            "drwxr-xr-x 1 root root 4.0K Mar 25 21:33 ..\n",
            "-rw-r--r-- 1 root root 1.4M Mar 25 21:36 actEcnReus.csv\n",
            "-rw-r--r-- 1 root root 3.6M Mar 25 21:36 actEcnReusHist.csv\n",
            "drwxr-xr-x 4 root root 4.0K Mar 18 13:36 .config\n",
            "drwxr-xr-x 1 root root 4.0K Mar 18 13:36 sample_data\n"
          ],
          "name": "stdout"
        }
      ]
    },
    {
      "cell_type": "code",
      "metadata": {
        "colab": {
          "base_uri": "https://localhost:8080/"
        },
        "id": "khHLfuYASiw9",
        "outputId": "78ad92b6-022e-46ca-cc1c-645a792397de"
      },
      "source": [
        "! head actEcnReus.csv"
      ],
      "execution_count": 7,
      "outputs": [
        {
          "output_type": "stream",
          "text": [
            "﻿_id,CODI LLICÈNCIA,CODI ACTIVITAT,NOM ACTIVITAT,DESCRIPCIÓ,CODI CCAE 2009,DESCRIPCIÓ CCAE 2009,DATA DE LEGALITZACIÓ,BARRI,DIRECCIÓ,CODI POSTAL,MUNICIPI,SUPERFÍCIE COBERTA,ANNEX 2009,ANNEX 2010,ANNEX 14,ANNEX,ANNEX 16\r\n",
            "1,18626,19847,\"\",magatzem maquinària frigorífica,5210,dipòsit i emmagatzematge,,AGRO-REUS,CR VICTOR CATALA  71,43206,REUS,0.0,0,No aplicable,\"\",No aplicable,\"\"\n",
            "2,18625,19845,\"\",taller i magatzem maquinària pala pàdel,5210,dipòsit i emmagatzematge,,MAS DE LES ÀNIMES,CR JOAQUIM RUYRA  5,43206,REUS,0.0,0,No aplicable,\"\",No aplicable,\"\"\n",
            "3,18624,19844,\"\",transformació de vidre pla a vidre manufacturat,2312,manipulació i transformació del vidre pla,,GRANJA VILA,\"CR IGUALTAT, DE LA  17\",43204,REUS,0.0,III,No aplicable,\"\",No aplicable,\"\"\n",
            "4,18622,19842,\"\",magatzem de complements per automoció,5210,dipòsit i emmagatzematge,,DINA,\"CR BALAGUER, DE  16\",43204,REUS,0.0,0,No aplicable,\"\",No aplicable,\"\"\n",
            "5,18621,19841,\"\",perruqueria / barberia,9602,perruqueria i altres tractaments de bellesa,,HORTS MIRÓ,PL PURISSIMA SANG  37,43201,REUS,0.0,0,No aplicable,\"\",No aplicable,Innòqües\n",
            "6,18619,19839,\"\",\"taller, magatzem de instal.lador xarxes de telecomunicació\",4222,construcció de xarxes elèctriques i de telecomunicacions,,PI DE BOFARULL,\"CR GRASSA, DE LA  26-28\",43204,REUS,0.0,0,No aplicable,\"\",No aplicable,Baix Risc\n",
            "7,18617,19837,\"\",reparació de vidres per vaixells,2312,manipulació i transformació del vidre pla,,MAS DE LES ÀNIMES,\"CR VICENT ANDRES ESTELLES, DE  11\",43206,REUS,0.0,III,No aplicable,\"\",No aplicable,\"\"\n",
            "8,18616,19836,\"\",magatzem equips climatització,5210,dipòsit i emmagatzematge,,DINA,CR SABADELL  38,43204,REUS,0.0,0,No aplicable,\"\",No aplicable,\"\"\n",
            "9,18615,7757,Cargill,\"industria d'extraccio, refinacio i envasat d'olis vegetals\",3700,recollida i tractament d'aigües residuals,2014-01-27T00:00:00,MAS DE LES ÀNIMES,\"AV FALSET, DE  127\",43206,REUS,0.0,0,No aplicable,\"\",Autorització Ambiental,\"\"\n"
          ],
          "name": "stdout"
        }
      ]
    },
    {
      "cell_type": "code",
      "metadata": {
        "colab": {
          "base_uri": "https://localhost:8080/"
        },
        "id": "KgKMRkynSiw_",
        "outputId": "13aeb7f4-4139-42e7-8bad-84a6098e0d74"
      },
      "source": [
        "! tail actEcnReus.csv"
      ],
      "execution_count": 8,
      "outputs": [
        {
          "output_type": "stream",
          "text": [
            "6229,47,13,\"\",planta de recollida i tractament d'olis procedents d'usos alimentaris,1091,fabricació de productes per a l'alimentació d'animals de granja,1982-09-10T00:00:00,\"\",\"\",,\"\",1.0,\"\",No aplicable,\"\",Llicència Ambiental,\"\"\n",
            "6230,44,9804,\"\",magatzem lecitines,1091,fabricació de productes per a l'alimentació d'animals de granja,1997-04-04T00:00:00,MAS DE LES ÀNIMES,CR ADRIA GUAL  4,43206,REUS,0.0,\"\",No aplicable,\"\",Llicència Ambiental,\"\"\n",
            "6231,43,10661,Sece Sa,taller electromecanic i magatzem de material electric,4321,instal·lacions elèctriques,1999-07-14T00:00:00,MAS DE LES ÀNIMES,CR ADRIA GUAL  16,43206,REUS,530.0,\"\",No aplicable,\"\",Llicència Ambiental,\"\"\n",
            "6232,36,15,Vermuts Miro,criança i elaboracio de vins diversos,1102,elaboració de vins,2003-03-10T00:00:00,\"\",\"\",,\"\",0.0,\"\",\"\",\"\",Llicència Ambiental,\"\"\n",
            "6233,23,13731,El Marfull,llar infants,8891,activitats d'atenció diürna d'infants,2005-09-09T00:00:00,HORTS MIRÓ,\"PL ABAT OLIBA, DE L'  35\",43204,REUS,0.0,\"\",\"\",\"\",Llicència Ambiental,\"\"\n",
            "6234,21,13495,\"\",condicionador aire,0,sense grup definit,,HORTS MIRÓ,\"PL ABAT OLIBA, DE L'  29\",43204,REUS,0.0,\"\",No aplicable,\"\",\"\",\"\"\n",
            "6235,20,11218,\"\",oficina assegurances,6511,assegurances de vida,2000-03-29T00:00:00,HORTS MIRÓ,\"PL ABAT OLIBA, DE L'  29\",43204,REUS,67.0,\"\",No aplicable,\"\",No inclosa amb documentació tècnica,\"\"\n",
            "6236,14,13092,\"\",reportatges audiovisuals i plato de tv amb parquing,0,sense grup definit,2003-11-19T00:00:00,\"\",\"\",,\"\",236.86,\"\",No aplicable,\"\",No inclosa amb projecte tècnic,\"\"\n",
            "6237,7,8245,\"\",oficina per empresa constructora,4121,construcció d'edificis residencials,1995-08-09T00:00:00,HORTS MIRÓ,\"CR ABAT ESCARRE, DE L'  18\",43204,REUS,83.26,\"\",No aplicable,\"\",No inclosa amb documentació tècnica,\"\"\n",
            "6238,4,13405,Santander Central Hispano,oficina bancària,6419,altres tipus de mediació monetària,2004-09-29T00:00:00,\"\",\"\",,\"\",266.54,\"\",No aplicable,\"\",No inclosa amb projecte tècnic,\"\"\n"
          ],
          "name": "stdout"
        }
      ]
    },
    {
      "cell_type": "code",
      "metadata": {
        "colab": {
          "base_uri": "https://localhost:8080/"
        },
        "id": "dO3Q3OPKT727",
        "outputId": "055d7eb5-5b44-4acb-8834-f012a12f0b99"
      },
      "source": [
        "! head actEcnReusHist.csv"
      ],
      "execution_count": 9,
      "outputs": [
        {
          "output_type": "stream",
          "text": [
            "﻿_id,CODI LLICÈNCIA,CODI ACTIVITAT,NOM ACTIVITAT,DESCRIPCIÓ,CODI CCAE 2009,DESCRIPCIÓ CCAE 2009,DATA DE LEGALITZACIÓ,DATA DE BAIXA,BARRI,DIRECCIÓ,CODI POSTAL,MUNICIPI,SUPERFÍCIE COBERTA,ANNEX 2009,ANNEX 2010,ANNEX 14,ANNEX,ANNEX 16\r\n",
            "1,18626,19847,\"\",magatzem maquinària frigorífica,5210,dipòsit i emmagatzematge,,,AGRO-REUS,CR VICTOR CATALA  71,43206,REUS,0.0,0,No aplicable,\"\",No aplicable,\"\"\n",
            "2,18625,19845,\"\",taller i magatzem maquinària pala pàdel,5210,dipòsit i emmagatzematge,,,MAS DE LES ÀNIMES,CR JOAQUIM RUYRA  5,43206,REUS,0.0,0,No aplicable,\"\",No aplicable,\"\"\n",
            "3,18624,19844,\"\",transformació de vidre pla a vidre manufacturat,2312,manipulació i transformació del vidre pla,,,GRANJA VILA,\"CR IGUALTAT, DE LA  17\",43204,REUS,0.0,III,No aplicable,\"\",No aplicable,\"\"\n",
            "4,18622,19842,\"\",magatzem de complements per automoció,5210,dipòsit i emmagatzematge,,,DINA,\"CR BALAGUER, DE  16\",43204,REUS,0.0,0,No aplicable,\"\",No aplicable,\"\"\n",
            "5,18621,19841,\"\",perruqueria / barberia,9602,perruqueria i altres tractaments de bellesa,,,HORTS MIRÓ,PL PURISSIMA SANG  37,43201,REUS,0.0,0,No aplicable,\"\",No aplicable,Innòqües\n",
            "6,18619,19839,\"\",\"taller, magatzem de instal.lador xarxes de telecomunicació\",4222,construcció de xarxes elèctriques i de telecomunicacions,,,PI DE BOFARULL,\"CR GRASSA, DE LA  26-28\",43204,REUS,0.0,0,No aplicable,\"\",No aplicable,Baix Risc\n",
            "7,18617,19837,\"\",reparació de vidres per vaixells,2312,manipulació i transformació del vidre pla,,,MAS DE LES ÀNIMES,\"CR VICENT ANDRES ESTELLES, DE  11\",43206,REUS,0.0,III,No aplicable,\"\",No aplicable,\"\"\n",
            "8,18616,19836,\"\",magatzem equips climatització,5210,dipòsit i emmagatzematge,,,DINA,CR SABADELL  38,43204,REUS,0.0,0,No aplicable,\"\",No aplicable,\"\"\n",
            "9,18615,7757,Cargill,\"industria d'extraccio, refinacio i envasat d'olis vegetals\",3700,recollida i tractament d'aigües residuals,2014-01-27T00:00:00,,MAS DE LES ÀNIMES,\"AV FALSET, DE  127\",43206,REUS,0.0,0,No aplicable,\"\",Autorització Ambiental,\"\"\n"
          ],
          "name": "stdout"
        }
      ]
    },
    {
      "cell_type": "code",
      "metadata": {
        "colab": {
          "base_uri": "https://localhost:8080/"
        },
        "id": "FBzgZT01T728",
        "outputId": "ab61f967-98b9-4f97-fddb-1cbbc9dbac51"
      },
      "source": [
        "! tail actEcnReusHist.csv"
      ],
      "execution_count": 10,
      "outputs": [
        {
          "output_type": "stream",
          "text": [
            "16232,17,12775,\"\",taller mecànic,2562,enginyeria mecànica general per compte d'altri,0004-01-29T00:00:00,2008-05-02T00:00:00,HORTS MIRÓ,\"PL ABAT OLIBA, DE L'  25\",43204,REUS,237.82,\"\",No aplicable,\"\",Règim de comunicació,\"\"\n",
            "16233,14,13092,\"\",reportatges audiovisuals i plato de tv amb parquing,0,sense grup definit,2003-11-19T00:00:00,,\"\",\"\",,\"\",236.86,\"\",No aplicable,\"\",No inclosa amb projecte tècnic,\"\"\n",
            "16234,12,14514,Tigeres,perruqueria,9602,perruqueria i altres tractaments de bellesa,2006-11-23T00:00:00,2020-05-19T00:00:00,HORTS MIRÓ,\"CR ABAT ESCARRE, DE L'  22\",43204,REUS,42.28,\"\",\"\",\"\",No inclosa amb documentació tècnica,\"\"\n",
            "16235,11,8323,\"\",quiosc,4762,comerç al detall de periòdics i articles de papereria en establiments especialitzats,0095-12-09T00:00:00,2008-05-02T00:00:00,HORTS MIRÓ,\"CR ABAT ESCARRE, DE L'  22\",43204,REUS,42.5,\"\",No aplicable,\"\",No inclosa amb projecte tècnic,\"\"\n",
            "16236,10,8677,\"\",oficina i magatzem d'instal·lacions d'electricitat,4322,\"lampisteria, instal·lacions de calefacció i aire condicionat\",1996-11-26T00:00:00,2012-07-18T00:00:00,HORTS MIRÓ,\"CR ABAT ESCARRE, DE L'  20\",43204,REUS,260.0,\"\",\"\",\"\",Règim de comunicació,\"\"\n",
            "16237,9,13560,\"\",oficines de servei de prevenció aliè,0,sense grup definit,2004-12-20T00:00:00,2007-06-08T00:00:00,HORTS MIRÓ,\"CR ABAT ESCARRE, DE L'  17\",43204,REUS,264.94,\"\",No aplicable,\"\",No inclosa amb projecte tècnic,\"\"\n",
            "16238,7,8245,\"\",oficina per empresa constructora,4121,construcció d'edificis residencials,1995-08-09T00:00:00,,HORTS MIRÓ,\"CR ABAT ESCARRE, DE L'  18\",43204,REUS,83.26,\"\",No aplicable,\"\",No inclosa amb documentació tècnica,\"\"\n",
            "16239,5,13560,\"\",oficines de servei de prevenció aliè,6621,avaluació de riscos i danys,2007-06-08T00:00:00,2013-05-14T00:00:00,HORTS MIRÓ,\"CR ABAT ESCARRE, DE L'  17\",43204,REUS,264.94,\"\",\"\",\"\",No inclosa amb projecte tècnic,\"\"\n",
            "16240,4,13405,Santander Central Hispano,oficina bancària,6419,altres tipus de mediació monetària,2004-09-29T00:00:00,,\"\",\"\",,\"\",266.54,\"\",No aplicable,\"\",No inclosa amb projecte tècnic,\"\"\n",
            "16241,1,13387,\"\",exposicio comerç motocicletes  amb  magatzem,4540,\"venda, manteniment i reparació de motocicletes, i dels seus recanvis i accessoris\",2004-08-19T00:00:00,2020-01-12T00:00:00,CASC ANTIC,\"CR ABADIA, DE L'  23\",43201,REUS,197.89,\"\",\"\",\"\",No inclosa amb projecte tècnic,\"\"\n"
          ],
          "name": "stdout"
        }
      ]
    },
    {
      "cell_type": "markdown",
      "metadata": {
        "id": "NMdoYTDFByle"
      },
      "source": [
        "### Confidence and Activity Indicators"
      ]
    },
    {
      "cell_type": "code",
      "metadata": {
        "id": "1hCzH2PoiPp8"
      },
      "source": [
        "# Index de confiança empresarial armonitzat\n",
        "# https://idescat.cat/pub/?id=iceh"
      ],
      "execution_count": null,
      "outputs": []
    },
    {
      "cell_type": "code",
      "metadata": {
        "id": "xupSds1-iPp9"
      },
      "source": [
        "!wget -O IdxConfEmpH.csv \"https://idescat.cat/indicadors/?id=conj&n=10234&col=1&f=csv\""
      ],
      "execution_count": null,
      "outputs": []
    },
    {
      "cell_type": "code",
      "metadata": {
        "id": "SElGOGTmiPp-"
      },
      "source": [
        "!ls -lah"
      ],
      "execution_count": null,
      "outputs": []
    },
    {
      "cell_type": "code",
      "metadata": {
        "id": "zKLGiySiiPp_"
      },
      "source": [
        "! head IdxConfEmpH.csv"
      ],
      "execution_count": null,
      "outputs": []
    },
    {
      "cell_type": "code",
      "metadata": {
        "id": "e3z9qZ3ZiPqC"
      },
      "source": [
        "! tail IdxConfEmpH.csv"
      ],
      "execution_count": null,
      "outputs": []
    },
    {
      "cell_type": "code",
      "metadata": {
        "id": "RxTR-_OviP6k"
      },
      "source": [
        "#  Indicadors d'activitat del sector serveis\n",
        "# https://idescat.cat/pub/?id=iass"
      ],
      "execution_count": null,
      "outputs": []
    },
    {
      "cell_type": "code",
      "metadata": {
        "id": "wedYMIQ9iP6m"
      },
      "source": [
        "!wget -O IdxActSSPrdVneg.csv \"https://idescat.cat/indicadors/?id=conj&n=10267&col=1&f=csv\""
      ],
      "execution_count": null,
      "outputs": []
    },
    {
      "cell_type": "code",
      "metadata": {
        "id": "DWKLQPsLiP6n"
      },
      "source": [
        "!ls -lah"
      ],
      "execution_count": null,
      "outputs": []
    },
    {
      "cell_type": "code",
      "metadata": {
        "id": "H7TLkU6fiP6o"
      },
      "source": [
        "! head IdxActSSPrdVneg.csv"
      ],
      "execution_count": null,
      "outputs": []
    },
    {
      "cell_type": "code",
      "metadata": {
        "id": "FZXTsMV9iP6p"
      },
      "source": [
        "! tail IdxActSSPrdVneg.csv"
      ],
      "execution_count": null,
      "outputs": []
    },
    {
      "cell_type": "markdown",
      "metadata": {
        "id": "UA0EzzAFB9q0"
      },
      "source": [
        "### Local entities"
      ]
    },
    {
      "cell_type": "code",
      "metadata": {
        "id": "i1VVxDRRiQKU"
      },
      "source": [
        "# Reus en Xifres.\n",
        "# https://www.idescat.cat/emex/?id=431233"
      ],
      "execution_count": null,
      "outputs": []
    },
    {
      "cell_type": "code",
      "metadata": {
        "id": "8rbdLAXviQKV"
      },
      "source": [
        "!wget -O muniReus.csv \"https://www.idescat.cat/emex/?id=431233&f=csv\""
      ],
      "execution_count": null,
      "outputs": []
    },
    {
      "cell_type": "code",
      "metadata": {
        "id": "ko_fVSiZiQKW"
      },
      "source": [
        "!ls -lah"
      ],
      "execution_count": null,
      "outputs": []
    },
    {
      "cell_type": "code",
      "metadata": {
        "id": "QPidsaeTiQKX"
      },
      "source": [
        "! head muniReus.csv.csv"
      ],
      "execution_count": null,
      "outputs": []
    },
    {
      "cell_type": "code",
      "metadata": {
        "id": "skyhfkbCiQKX"
      },
      "source": [
        "! tail muniReus.csv.csv"
      ],
      "execution_count": null,
      "outputs": []
    },
    {
      "cell_type": "markdown",
      "metadata": {
        "id": "-wJYH9olwG76"
      },
      "source": [
        "### Subvencions i ajudes públiques"
      ]
    },
    {
      "cell_type": "code",
      "metadata": {
        "id": "pff-0f-tQI2p"
      },
      "source": [
        "# Sistema Nacional de Publicidad de Subvenciones y Ayudas Públicas\n",
        "# https://www.infosubvenciones.es/bdnstrans/GE/es/convocatorias"
      ],
      "execution_count": null,
      "outputs": []
    },
    {
      "cell_type": "code",
      "metadata": {
        "id": "W2151DaWQI2w"
      },
      "source": [
        "!wget -O AjPublicas.csv \"h\""
      ],
      "execution_count": null,
      "outputs": []
    },
    {
      "cell_type": "code",
      "metadata": {
        "id": "1eLHLkfbQI2z"
      },
      "source": [
        "!ls -lah"
      ],
      "execution_count": null,
      "outputs": []
    },
    {
      "cell_type": "code",
      "metadata": {
        "id": "sPjYwdEfQI23"
      },
      "source": [
        "! head AjPublicas.csv.csv"
      ],
      "execution_count": null,
      "outputs": []
    },
    {
      "cell_type": "code",
      "metadata": {
        "id": "QiE6bG8XQI24"
      },
      "source": [
        "! tail AjPublicas.csv.csv"
      ],
      "execution_count": null,
      "outputs": []
    },
    {
      "cell_type": "code",
      "metadata": {
        "id": "X7I9hfuRQYLa"
      },
      "source": [
        "# Reus Govern Obert i Transparència\n",
        "# https://www.seu-e.cat/ca/web/reus"
      ],
      "execution_count": null,
      "outputs": []
    },
    {
      "cell_type": "code",
      "metadata": {
        "id": "rQ_wP4b1QYLf"
      },
      "source": [
        "!wget -O muniReus.csv \"h\""
      ],
      "execution_count": null,
      "outputs": []
    },
    {
      "cell_type": "code",
      "metadata": {
        "id": "0VZ6zRkqQYLh"
      },
      "source": [
        "!ls -lah"
      ],
      "execution_count": null,
      "outputs": []
    },
    {
      "cell_type": "code",
      "metadata": {
        "id": "j_O62ampQYLi"
      },
      "source": [
        "! head .csv.csv"
      ],
      "execution_count": null,
      "outputs": []
    },
    {
      "cell_type": "code",
      "metadata": {
        "id": "Y7ugIzxfQYLn"
      },
      "source": [
        "! tail .csv.csv"
      ],
      "execution_count": null,
      "outputs": []
    },
    {
      "cell_type": "markdown",
      "metadata": {
        "id": "jJ9jvPXwwPjj"
      },
      "source": [
        ""
      ]
    },
    {
      "cell_type": "code",
      "metadata": {
        "id": "EuI1e9WcQYpE"
      },
      "source": [
        "# \n",
        "# "
      ],
      "execution_count": null,
      "outputs": []
    },
    {
      "cell_type": "code",
      "metadata": {
        "id": "gvE2hZjIQYpH"
      },
      "source": [
        "!wget -O muniReus.csv \"h\""
      ],
      "execution_count": null,
      "outputs": []
    },
    {
      "cell_type": "code",
      "metadata": {
        "id": "8clp2kmVQYpJ"
      },
      "source": [
        "!ls -lah"
      ],
      "execution_count": null,
      "outputs": []
    },
    {
      "cell_type": "code",
      "metadata": {
        "id": "-WhjkD_cQYpK"
      },
      "source": [
        "! head .csv.csv"
      ],
      "execution_count": null,
      "outputs": []
    },
    {
      "cell_type": "code",
      "metadata": {
        "id": "N9u0DmxdQYpL"
      },
      "source": [
        "! tail .csv.csv"
      ],
      "execution_count": null,
      "outputs": []
    },
    {
      "cell_type": "code",
      "metadata": {
        "id": "mwFzrWlMQY5N"
      },
      "source": [
        "# \n",
        "# "
      ],
      "execution_count": null,
      "outputs": []
    },
    {
      "cell_type": "code",
      "metadata": {
        "id": "Z-wJg6dHQY5Q"
      },
      "source": [
        "!wget -O muniReus.csv \"h\""
      ],
      "execution_count": null,
      "outputs": []
    },
    {
      "cell_type": "code",
      "metadata": {
        "id": "WA8ahooQQY5R"
      },
      "source": [
        "!ls -lah"
      ],
      "execution_count": null,
      "outputs": []
    },
    {
      "cell_type": "code",
      "metadata": {
        "id": "O6HyXeU4QY5X"
      },
      "source": [
        "! head .csv.csv"
      ],
      "execution_count": null,
      "outputs": []
    },
    {
      "cell_type": "code",
      "metadata": {
        "id": "fGkJmpluQY5Y"
      },
      "source": [
        "! tail .csv.csv"
      ],
      "execution_count": null,
      "outputs": []
    },
    {
      "cell_type": "code",
      "metadata": {
        "id": "2zIqpHvoQZG0"
      },
      "source": [
        "# \n",
        "# "
      ],
      "execution_count": null,
      "outputs": []
    },
    {
      "cell_type": "code",
      "metadata": {
        "id": "efJCVjw0QZG2"
      },
      "source": [
        "!wget -O muniReus.csv \"h\""
      ],
      "execution_count": null,
      "outputs": []
    },
    {
      "cell_type": "code",
      "metadata": {
        "id": "eMbOtShTQZG3"
      },
      "source": [
        "!ls -lah"
      ],
      "execution_count": null,
      "outputs": []
    },
    {
      "cell_type": "code",
      "metadata": {
        "id": "J_2v_7aGQZG3"
      },
      "source": [
        "! head .csv.csv"
      ],
      "execution_count": null,
      "outputs": []
    },
    {
      "cell_type": "code",
      "metadata": {
        "id": "NpAGxEYSQZG4"
      },
      "source": [
        "! tail .csv.csv"
      ],
      "execution_count": null,
      "outputs": []
    },
    {
      "cell_type": "code",
      "metadata": {
        "id": "JSqIOCZHQZRg"
      },
      "source": [
        "# \n",
        "# "
      ],
      "execution_count": null,
      "outputs": []
    },
    {
      "cell_type": "code",
      "metadata": {
        "id": "Wd7Q0a-HQZRi"
      },
      "source": [
        "!wget -O muniReus.csv \"h\""
      ],
      "execution_count": null,
      "outputs": []
    },
    {
      "cell_type": "code",
      "metadata": {
        "id": "SfUtI8fMQZRj"
      },
      "source": [
        "!ls -lah"
      ],
      "execution_count": null,
      "outputs": []
    },
    {
      "cell_type": "code",
      "metadata": {
        "id": "PWGt18H8QZRk"
      },
      "source": [
        "! head .csv.csv"
      ],
      "execution_count": null,
      "outputs": []
    },
    {
      "cell_type": "code",
      "metadata": {
        "id": "M0Ktl7zuQZRl"
      },
      "source": [
        "! tail .csv.csv"
      ],
      "execution_count": null,
      "outputs": []
    }
  ]
}