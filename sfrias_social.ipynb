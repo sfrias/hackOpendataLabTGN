{
  "nbformat": 4,
  "nbformat_minor": 0,
  "metadata": {
    "colab": {
      "name": "sfrias_social.ipynb",
      "provenance": [],
      "collapsed_sections": [],
      "authorship_tag": "ABX9TyNpAKGmV8LwoE+jPil8fFHE",
      "include_colab_link": true
    },
    "kernelspec": {
      "name": "python3",
      "display_name": "Python 3"
    },
    "language_info": {
      "name": "python"
    }
  },
  "cells": [
    {
      "cell_type": "markdown",
      "metadata": {
        "id": "view-in-github",
        "colab_type": "text"
      },
      "source": [
        "<a href=\"https://colab.research.google.com/github/sfrias/hackOpendataLabTGN/blob/main/sfrias_social.ipynb\" target=\"_parent\"><img src=\"https://colab.research.google.com/assets/colab-badge.svg\" alt=\"Open In Colab\"/></a>"
      ]
    },
    {
      "cell_type": "code",
      "metadata": {
        "id": "8FqqaqMk-Ef1"
      },
      "source": [
        "#! /usr/bin/env python\n",
        "# -*- coding: utf-8 -*-"
      ],
      "execution_count": null,
      "outputs": []
    },
    {
      "cell_type": "markdown",
      "metadata": {
        "id": "sRb_4EqkB-As"
      },
      "source": [
        "# Code License"
      ]
    },
    {
      "cell_type": "markdown",
      "metadata": {
        "id": "0Sl15Sy9B9rw"
      },
      "source": [
        "Authors(incremental for changes):\n",
        "- S.Frias (2021, March)\n",
        "\n",
        "Repo: https://github.com/sfrias/hackOpendataLabTGN/\n",
        "\n",
        "This code content is licensed under GPL 3.0 or any later version\n",
        "\n",
        "https://www.gnu.org/licenses/gpl-3.0.html\n",
        "\n",
        "Only way to make software development safe is to abolish software patents\n",
        "\n",
        "https://www.gnu.org/licenses/quick-guide-gplv3.html"
      ]
    },
    {
      "cell_type": "markdown",
      "metadata": {
        "id": "k4ycWn20CsF2"
      },
      "source": [
        "### Synthesis"
      ]
    },
    {
      "cell_type": "code",
      "metadata": {
        "id": "NhfDa9vKCVKg"
      },
      "source": [
        "# OpendataLab Tarragona stages.\n",
        "# Goal: knowledge about social impact related to COVID-19 issue.\n",
        "# Rules: use opendata sources, extract knowledge, and render results\n",
        "# First hack: Economic and social reactivation related of Covid-19 at Camp de Tarragona, Tarragona, Catalonia (ES)"
      ],
      "execution_count": null,
      "outputs": []
    },
    {
      "cell_type": "markdown",
      "metadata": {
        "id": "WCgNsBiEEo5G"
      },
      "source": [
        "### Utilities"
      ]
    },
    {
      "cell_type": "code",
      "metadata": {
        "id": "nJb9stncBiN9"
      },
      "source": [
        "# Import and package configuration\n",
        "from google.colab import files"
      ],
      "execution_count": null,
      "outputs": []
    },
    {
      "cell_type": "code",
      "metadata": {
        "id": "rOxT3b6uOmW4"
      },
      "source": [
        "# Montar unidad almacenamiento en cloud de Google colab\n",
        "#from google.colab import drive"
      ],
      "execution_count": null,
      "outputs": []
    },
    {
      "cell_type": "code",
      "metadata": {
        "id": "EMgKl7W8Onh8"
      },
      "source": [
        "#drive.mount('/gdrive')"
      ],
      "execution_count": null,
      "outputs": []
    },
    {
      "cell_type": "code",
      "metadata": {
        "id": "qXguwabuOrvP"
      },
      "source": [
        "#!ls -lah /gdrive/'My Drive'/"
      ],
      "execution_count": null,
      "outputs": []
    },
    {
      "cell_type": "code",
      "metadata": {
        "id": "hbETQ8ZiPDdi"
      },
      "source": [
        "# Subir desde drive a cloud de google para interaccionar con colab.\n",
        "#!cp drive/MyDrive/OpendataLabTGN/hack1/*.* ."
      ],
      "execution_count": null,
      "outputs": []
    },
    {
      "cell_type": "code",
      "metadata": {
        "id": "xlPuau1RBiCH"
      },
      "source": [
        "! ls -lah"
      ],
      "execution_count": null,
      "outputs": []
    },
    {
      "cell_type": "code",
      "metadata": {
        "id": "YtDEfmneBhnm"
      },
      "source": [
        "!wget -O noticies.csv \"http://dadesobertes.seu-e.cat/csv/tarragona/00301.csv\""
      ],
      "execution_count": null,
      "outputs": []
    },
    {
      "cell_type": "code",
      "metadata": {
        "id": "gh4UBpnXNcfG"
      },
      "source": [
        "!ls -lah"
      ],
      "execution_count": null,
      "outputs": []
    },
    {
      "cell_type": "code",
      "metadata": {
        "id": "f2BEjZFCNwvS"
      },
      "source": [
        "! head noticies.csv"
      ],
      "execution_count": null,
      "outputs": []
    },
    {
      "cell_type": "code",
      "metadata": {
        "id": "omyvsdN1NwZI"
      },
      "source": [
        "! tail noticies.csv"
      ],
      "execution_count": null,
      "outputs": []
    }
  ]
}