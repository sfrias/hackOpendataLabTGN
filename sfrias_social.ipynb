{
  "nbformat": 4,
  "nbformat_minor": 0,
  "metadata": {
    "colab": {
      "name": "sfrias_social.ipynb",
      "provenance": [],
      "collapsed_sections": [],
      "authorship_tag": "ABX9TyO+BP+N2ZZyGL+1VOVdIQe/",
      "include_colab_link": true
    },
    "kernelspec": {
      "name": "python3",
      "display_name": "Python 3"
    },
    "language_info": {
      "name": "python"
    }
  },
  "cells": [
    {
      "cell_type": "markdown",
      "metadata": {
        "id": "view-in-github",
        "colab_type": "text"
      },
      "source": [
        "<a href=\"https://colab.research.google.com/github/sfrias/hackOpendataLabTGN/blob/main/sfrias_social.ipynb\" target=\"_parent\"><img src=\"https://colab.research.google.com/assets/colab-badge.svg\" alt=\"Open In Colab\"/></a>"
      ]
    },
    {
      "cell_type": "code",
      "metadata": {
        "id": "8FqqaqMk-Ef1"
      },
      "source": [
        "#! /usr/bin/env python\n",
        "# -*- coding: utf-8 -*-"
      ],
      "execution_count": null,
      "outputs": []
    },
    {
      "cell_type": "markdown",
      "metadata": {
        "id": "sRb_4EqkB-As"
      },
      "source": [
        "# Code License"
      ]
    },
    {
      "cell_type": "markdown",
      "metadata": {
        "id": "0Sl15Sy9B9rw"
      },
      "source": [
        "Source Code Repo: https://github.com/sfrias/hackOpendataLabTGN/blob/main/sfrias_social.ipynb\n",
        "\n",
        "Authors(incremental for changes):\n",
        "- S.Frias (2021, March)\n",
        "\n",
        "Stakeholders:\n",
        "- Núria Sicart (2021, March)\n",
        "- Judit Cervelló (2021, March)\n",
        "\n",
        "Repo: https://github.com/sfrias/hackOpendataLabTGN/\n",
        "\n",
        "This code content is licensed under GPL 3.0 or any later version\n",
        "\n",
        "https://www.gnu.org/licenses/gpl-3.0.html\n",
        "\n",
        "Only way to make software development safe is to abolish software patents\n",
        "\n",
        "https://www.gnu.org/licenses/quick-guide-gplv3.html\n",
        "\n",
        "Data sources: Open Data, Creative Commons by attribution.\n",
        "\n",
        "Rules: Article 8, Law 37/2007, of 16 November, reuse of public sector information.\n",
        "- Do not distort the meaning of the information or alter its content.\n",
        "- The source of the data must be cited.\n",
        "- Mention must be made of the date of the last update of the information.\n",
        "\n",
        "Whiteboard: https://r8.whiteboardfox.com/8698642-0717-8783"
      ]
    },
    {
      "cell_type": "markdown",
      "metadata": {
        "id": "k4ycWn20CsF2"
      },
      "source": [
        "### Synthesis"
      ]
    },
    {
      "cell_type": "code",
      "metadata": {
        "id": "NhfDa9vKCVKg"
      },
      "source": [
        "#  OpendataLab Tarragona Reus stages.\n",
        "#  Goal: knowledge about social impact related to COVID-19 issue.\n",
        "#  Rules: use opendata sources, extract knowledge, and render results\n",
        "#  First hack: Economic and social reactivation related of Covid-19 at Camp de Tarragona.\n",
        "#  Location: Virtual Datalab Reus and Tarragona, Catalonia (ES)"
      ],
      "execution_count": null,
      "outputs": []
    },
    {
      "cell_type": "code",
      "metadata": {
        "id": "S73IrTgtJXt3"
      },
      "source": [
        "# Development of first Session.\n",
        "#\n",
        "#  Stakeholders are concerned about the use of resources granted to alleviate\n",
        "# the social, economic and labor consequences of confinement situations\n",
        "# derived from the pandemics associated with SARS-CoV2\n",
        "#\n",
        "#  In their thinking appears the concept of creating a reactivation system,\n",
        "# more focused on policies that generate the greatest possible impact,\n",
        "# on one hand, with special consideration of sustainable activities,\n",
        "# and on the other hand with the concept of resource transfer,\n",
        "# and accountability objective way.\n",
        "#\n",
        "#  For this last aspect, the incidence of these policies should be quantified and evaluated,\n",
        "# all of this setting up a scenario that builds a temporal model (past, present, future),\n",
        "# on which to correlate the actions of each chosen policy, with the change or maintenance\n",
        "# of certain indicators, magnitudes or evolution parameters, and detect in an anticipated way,\n",
        "# or at an early moment a behavior that is not expected, using updates of related opendata datasets."
      ],
      "execution_count": null,
      "outputs": []
    },
    {
      "cell_type": "markdown",
      "metadata": {
        "id": "LDFkKeSxJnXC"
      },
      "source": [
        "#### Tematiques:\n",
        "\n",
        "1 - Eficàcia dels recursos invertits  a un sistema de reactivació. Com focalitzar les possibles linies d’ajuda a nivell social i economic.\n",
        "\n",
        "2 - Target: enfocar de manera òptima recursos a nivell social, econòmic i laboral.\n",
        "\n",
        "3 - Necessitat acte oficial de transferència, rendiment de comptes a l’impacte de polítiques de reactivació i el seu seguiment.\n",
        "\n",
        "4 - Cercar un patró on estudiar casos exitosos, ajudes per NIF, la seva agrupació i quantia (CNAE, ZONES)\n",
        "\n",
        "5 - Exemple amb locals comercials, subvencions, i evolució de l’ocupació.\n"
      ]
    },
    {
      "cell_type": "markdown",
      "metadata": {
        "id": "4OnGd_dOKMOV"
      },
      "source": [
        "#### Dades a cercar:\n",
        "\n",
        "1 - Comerços, sectors, cens activitats, Index de benestar.\n",
        "\n",
        "2 - Enfocat dades a Ciutats com Reus, etc.\n",
        "\n",
        "3 - Establir escenari/model (passat, present, futur per accions, la seva implementació i seguiment.\n",
        "\n",
        "4 - Portal ajudes de subvencions.\n",
        "\n",
        "5 - Cercar fonts de dades amb les que identificar locals i la seva ocupació.\n"
      ]
    },
    {
      "cell_type": "markdown",
      "metadata": {
        "id": "WCgNsBiEEo5G"
      },
      "source": [
        "### Utilities"
      ]
    },
    {
      "cell_type": "code",
      "metadata": {
        "id": "EvWqScU8KHFZ"
      },
      "source": [
        ""
      ],
      "execution_count": null,
      "outputs": []
    },
    {
      "cell_type": "code",
      "metadata": {
        "id": "nJb9stncBiN9"
      },
      "source": [
        "# Import and package configuration\n",
        "from google.colab import files"
      ],
      "execution_count": null,
      "outputs": []
    },
    {
      "cell_type": "code",
      "metadata": {
        "id": "rOxT3b6uOmW4"
      },
      "source": [
        "# Mount storage unit on  en Google Colab cloud\n",
        "from google.colab import drive\n",
        "#drive.mount('/gdrive')"
      ],
      "execution_count": null,
      "outputs": []
    },
    {
      "cell_type": "code",
      "metadata": {
        "id": "qXguwabuOrvP"
      },
      "source": [
        "# List Google Drive associated  path\n",
        "#!ls -lah /gdrive/'My Drive'/"
      ],
      "execution_count": null,
      "outputs": []
    },
    {
      "cell_type": "code",
      "metadata": {
        "id": "hbETQ8ZiPDdi"
      },
      "source": [
        "# Upload from Google Drive to Colab some data files stored at folder to colab interaction after\n",
        "#!cp /gdrive/MyDrive/OpendataLabTGN/hack1/*.* ."
      ],
      "execution_count": null,
      "outputs": []
    },
    {
      "cell_type": "code",
      "metadata": {
        "id": "xlPuau1RBiCH"
      },
      "source": [
        "! ls -lah"
      ],
      "execution_count": null,
      "outputs": []
    },
    {
      "cell_type": "markdown",
      "metadata": {
        "id": "GVBPWuOcyww2"
      },
      "source": [
        "### Home Changes"
      ]
    },
    {
      "cell_type": "code",
      "metadata": {
        "id": "Dr2ThIuNWGgo"
      },
      "source": [
        "# Tarragona: Canvis de casa"
      ],
      "execution_count": null,
      "outputs": []
    },
    {
      "cell_type": "code",
      "metadata": {
        "id": "5n-TuC1CR_PU"
      },
      "source": [
        "!wget -O xcasaSxe.csv \"http://dadesobertes.seu-e.cat/csv/tarragona/00108.csv\""
      ],
      "execution_count": null,
      "outputs": []
    },
    {
      "cell_type": "code",
      "metadata": {
        "id": "UMkE6CZ7R_PY"
      },
      "source": [
        "!ls -lah"
      ],
      "execution_count": null,
      "outputs": []
    },
    {
      "cell_type": "code",
      "metadata": {
        "id": "mMFkFoetR_Pb"
      },
      "source": [
        "! head xcasaSxe.csv"
      ],
      "execution_count": null,
      "outputs": []
    },
    {
      "cell_type": "code",
      "metadata": {
        "id": "-BawHJlvR_Ph"
      },
      "source": [
        "! tail xcasaSxe.csv"
      ],
      "execution_count": null,
      "outputs": []
    },
    {
      "cell_type": "code",
      "metadata": {
        "id": "Og5MdPTrSA7t"
      },
      "source": [
        "!wget -O xcasaDtScc.csv \"http://dadesobertes.seu-e.cat/csv/tarragona/00106.csv\""
      ],
      "execution_count": null,
      "outputs": []
    },
    {
      "cell_type": "code",
      "metadata": {
        "id": "7-NOZHN5SA7u"
      },
      "source": [
        "!ls -lah"
      ],
      "execution_count": null,
      "outputs": []
    },
    {
      "cell_type": "code",
      "metadata": {
        "id": "HtKbJCw6SA7w"
      },
      "source": [
        "! head xcasaDtScc.csv"
      ],
      "execution_count": null,
      "outputs": []
    },
    {
      "cell_type": "code",
      "metadata": {
        "id": "31UeyyEiSA7y"
      },
      "source": [
        "! tail xcasaDtScc.csv"
      ],
      "execution_count": null,
      "outputs": []
    },
    {
      "cell_type": "markdown",
      "metadata": {
        "id": "y3iD28fVy4Xf"
      },
      "source": [
        "### Conflict, discontent\n",
        "\n",
        "Sanctions on restrictions related to covid and authority\n",
        "\n",
        "Complaints vs Actions"
      ]
    },
    {
      "cell_type": "code",
      "metadata": {
        "id": "pI_bWkxaV73p"
      },
      "source": [
        "# Tarragona: Actuacions brigada neteja davant denuncies."
      ],
      "execution_count": null,
      "outputs": []
    },
    {
      "cell_type": "code",
      "metadata": {
        "id": "SFsJQnFVT8Nz"
      },
      "source": [
        "!wget -O Bnet19.csv \"http://dadesobertes.seu-e.cat/csv/tarragona/00606.csv\""
      ],
      "execution_count": null,
      "outputs": []
    },
    {
      "cell_type": "code",
      "metadata": {
        "id": "8QMQ_GpJT8N0"
      },
      "source": [
        "!ls -lah"
      ],
      "execution_count": null,
      "outputs": []
    },
    {
      "cell_type": "code",
      "metadata": {
        "id": "9WgVUmjzT8N2"
      },
      "source": [
        "! head Bnet19.csv"
      ],
      "execution_count": null,
      "outputs": []
    },
    {
      "cell_type": "code",
      "metadata": {
        "id": "Zcxj-HTFT8N4"
      },
      "source": [
        "! tail Bnet19.csv"
      ],
      "execution_count": null,
      "outputs": []
    },
    {
      "cell_type": "code",
      "metadata": {
        "id": "UgroXDe9T9uB"
      },
      "source": [
        "!wget -O Bnet20.csv \"http://dadesobertes.seu-e.cat/csv/tarragona/00611.csv\""
      ],
      "execution_count": null,
      "outputs": []
    },
    {
      "cell_type": "code",
      "metadata": {
        "id": "FJ02yPSaT9uC"
      },
      "source": [
        "!ls -lah"
      ],
      "execution_count": null,
      "outputs": []
    },
    {
      "cell_type": "code",
      "metadata": {
        "id": "er17v3SRT9uE"
      },
      "source": [
        "! head Bnet20.csv"
      ],
      "execution_count": null,
      "outputs": []
    },
    {
      "cell_type": "code",
      "metadata": {
        "id": "5gnlnO_QT9uF"
      },
      "source": [
        "! tail Bnet20.csv"
      ],
      "execution_count": null,
      "outputs": []
    },
    {
      "cell_type": "code",
      "metadata": {
        "id": "6w1D54JLT-TC"
      },
      "source": [
        "!wget -O Bnet21.csv \"http://dadesobertes.seu-e.cat/csv/tarragona/00612.csv\""
      ],
      "execution_count": null,
      "outputs": []
    },
    {
      "cell_type": "code",
      "metadata": {
        "id": "8A9JQlQJT-TG"
      },
      "source": [
        "!ls -lah"
      ],
      "execution_count": null,
      "outputs": []
    },
    {
      "cell_type": "code",
      "metadata": {
        "id": "bqIN0zdeT-TG"
      },
      "source": [
        "! head Bnet21.csv"
      ],
      "execution_count": null,
      "outputs": []
    },
    {
      "cell_type": "code",
      "metadata": {
        "id": "8PB-3doST-TI"
      },
      "source": [
        "! tail Bnet21.csv"
      ],
      "execution_count": null,
      "outputs": []
    },
    {
      "cell_type": "markdown",
      "metadata": {
        "id": "M7pw44X8z_vj"
      },
      "source": [
        "### Cultural activities evolution"
      ]
    },
    {
      "cell_type": "code",
      "metadata": {
        "id": "5SvmQWJTVlIy"
      },
      "source": [
        "# Tarragona: Hauria estat be poder comparar l agenda d'activitats culturals  amb el històric de les mateixes que no s'ha trobat"
      ],
      "execution_count": null,
      "outputs": []
    },
    {
      "cell_type": "code",
      "metadata": {
        "id": "vNuF00GpWdqk"
      },
      "source": [
        "# Reus: agenda d'activitats culturals\n",
        "# https://opendata.reus.cat/dataset/agenda-dactivitats"
      ],
      "execution_count": null,
      "outputs": []
    },
    {
      "cell_type": "code",
      "metadata": {
        "colab": {
          "base_uri": "https://localhost:8080/"
        },
        "id": "_jj60z7MXCaZ",
        "outputId": "f70636ff-71af-41f7-e9b2-bf624b7d8203"
      },
      "source": [
        "!wget --no-check-certificate -O actCultReus.csv \"https://opendata.reus.cat/datastore/dump/4ee4767c-92e9-460b-a3d1-c3d97f4651f4?format=csv&bom=true\""
      ],
      "execution_count": null,
      "outputs": [
        {
          "output_type": "stream",
          "text": [
            "--2021-03-25 21:50:32--  https://opendata.reus.cat/datastore/dump/4ee4767c-92e9-460b-a3d1-c3d97f4651f4?format=csv&bom=true\n",
            "Resolving opendata.reus.cat (opendata.reus.cat)... 213.0.28.29\n",
            "Connecting to opendata.reus.cat (opendata.reus.cat)|213.0.28.29|:443... connected.\n",
            "WARNING: cannot verify opendata.reus.cat's certificate, issued by ‘CN=Sectigo RSA Organization Validation Secure Server CA,O=Sectigo Limited,L=Salford,ST=Greater Manchester,C=GB’:\n",
            "  Unable to locally verify the issuer's authority.\n",
            "HTTP request sent, awaiting response... 200 OK\n",
            "Length: unspecified [text/csv]\n",
            "Saving to: ‘actCultReus’\n",
            "\n",
            "actCultReus             [          <=>       ]   3.07M   204KB/s    in 17s     \n",
            "\n",
            "2021-03-25 21:50:51 (183 KB/s) - ‘actCultReus’ saved [3215924]\n",
            "\n"
          ],
          "name": "stdout"
        }
      ]
    },
    {
      "cell_type": "code",
      "metadata": {
        "colab": {
          "base_uri": "https://localhost:8080/"
        },
        "id": "dRq-fIcVW8gp",
        "outputId": "d8635e14-2625-4c1e-ebda-63b03f741fcc"
      },
      "source": [
        "!ls -lah"
      ],
      "execution_count": null,
      "outputs": [
        {
          "output_type": "stream",
          "text": [
            "total 8.0M\n",
            "drwxr-xr-x 1 root root 4.0K Mar 25 21:52 .\n",
            "drwxr-xr-x 1 root root 4.0K Mar 25 21:33 ..\n",
            "-rw-r--r-- 1 root root 3.1M Mar 25 21:50 actCultReus.csv\n",
            "-rw-r--r-- 1 root root 1.4M Mar 25 21:36 actEcnReus.csv\n",
            "-rw-r--r-- 1 root root 3.6M Mar 25 21:36 actEcnReusHist.csv\n",
            "drwxr-xr-x 4 root root 4.0K Mar 18 13:36 .config\n",
            "drwxr-xr-x 1 root root 4.0K Mar 18 13:36 sample_data\n"
          ],
          "name": "stdout"
        }
      ]
    },
    {
      "cell_type": "code",
      "metadata": {
        "colab": {
          "base_uri": "https://localhost:8080/"
        },
        "id": "SCu_TNQWW8gs",
        "outputId": "2649af54-6fc4-49b9-d26c-03782bd6a58f"
      },
      "source": [
        "! head actCultReus.csv"
      ],
      "execution_count": null,
      "outputs": [
        {
          "output_type": "stream",
          "text": [
            "﻿_id,nid,path,title,agenda_subtitle,agenda_categoria,categories,localitzacio,localitzacio_adreca,localitzacio_latitude,localitzacio_longitude,data_inici,data_fi,agenda_preu,agenda_web,agenda_organitzador\r\n",
            "1,15295,https://www.reus.cat/agenda/%3C%3Cmodest-gene-un-escultor-entre-dos-mons%3E%3E,\"«Modest Gené, un escultor entre dos mons»\",Exposición antológica en el Museo de Arte e Historia,Exposició,Exposició,Museu de Reus · Espai plaça Llibertat,\"Plaça de la Llibertat, 13\",41.158455,1.106931,2010-06-03T23:00:00,2011-04-02T23:00:00,Entrada lliure,\"\",\"\"\n",
            "2,15284,https://www.reus.cat/agenda/un-raig-de-mel,Un raig de mel,Exposición producida originalmente por el Museo Marítimo de Tarragona,Exposició,Exposició,Museu de Reus Salvador Vilaseca,\"Raval de Santa Anna, 59\",41.156341,1.110389,2011-01-28T00:00:00,2011-04-22T23:00:00,Entrada lliure,\"\",\"\"\n",
            "3,15296,https://www.reus.cat/agenda/exposicio-topografies-re-versibles,Exposició Topografies Re-versibles,En el Centro de Arte Cal Massó,Exposició,Exposició,Centre d’Art Cal Massó,\"Carrer Pròsper Bofarull, 7\",41.158212,1.102016,2011-02-25T00:00:00,2011-04-27T23:00:00,Entrada lliure,www.calmasso.reus.cat,\"\"\n",
            "4,15251,https://www.reus.cat/agenda/activitats-de-lleure-setmana-de-vacances-dhivern-2011,Activitats de lleure Setmana de Vacances d'Hivern 2011,Oferta de Actividades de ocio para la semana de vacaciones escolares de invierno,Jornades,Jornades,Escola La Vitxeta,\"passeig del nord,120\",41.167477,1.112216,2011-03-07T00:00:00,2011-03-11T00:00:00,38,\"\",\"\"\n",
            "5,15244,https://www.reus.cat/agenda/%C2%ABdones-fent-empresa%C2%BB,«Dones fent empresa»,La exposición muestra cómo la incorporación de las mujeres en el mundo empresarial no es un Hecho reciente.,Exposició,Exposició,REDESSA,\"Camí de Valls, 81-87\",41.159139,1.118532,2011-03-08T08:30:00,2011-03-28T19:00:00,\"\",\"\",\"\"\n",
            "6,15171,https://www.reus.cat/agenda/concert-de-coleing-porter,Concert de Coleing Porter,Clara Luna &amp; Xavi Maureta,Música,Música,La Palma,\"Carrer ample, 75\",41.160320,1.102539,2011-03-11T22:30:00,2011-03-11T23:50:00,6 € (amb consumició inclosa)/ 3 € per socis TR3SC,www.amcareus.blogspot.com,\"\"\n",
            "7,16236,https://www.reus.cat/agenda/lhora-del-conte,L'Hora del Conte,Organizado por la Concejalía de Solidaridad y Cooperación.,Altres,Altres,Biblioteca Central Xavier Amorós,\"Carrer de l'Escorxador, 1\",41.154013,1.100278,2011-03-16T18:00:00,2011-03-16T19:00:00,Gratuït,\"\",\"\"\n",
            "8,20115,https://www.reus.cat/agenda/una-veu-encara-viva-conferencia-sobre-la-figura-de-joan-maragall,Una veu encara viva. Conferència sobre la figura de Joan Maragall,Conferencia,Conferència,Conferència,Biblioteca Central Xavier Amorós,\"Carrer de l'Escorxador, 1\",41.154013,1.100278,2011-03-16T20:00:00,2011-03-16T21:30:00,Gratuït,http://bcr.reus.cat,\"\"\n",
            "9,15170,https://www.reus.cat/agenda/xerrada-%C2%ABpetites-idees-pel-meu-gran-projecte%C2%BB,Xerrada: «Petites idees pel meu gran projecte»,¿Quieres crear tu empresa?,Conferència,Conferència,Casal de Joves La Palma,\"c/Castellvell, 24\",41.156427,1.109619,2011-03-17T18:00:00,2011-03-17T00:00:00,Activitat gratuïta,www.reus.cat/joventut,\"\"\n"
          ],
          "name": "stdout"
        }
      ]
    },
    {
      "cell_type": "code",
      "metadata": {
        "colab": {
          "base_uri": "https://localhost:8080/"
        },
        "id": "ZQHFKsgJW8gt",
        "outputId": "7e025c6a-bf58-4219-87d7-984c794640ce"
      },
      "source": [
        "! tail actCultReus.csv"
      ],
      "execution_count": null,
      "outputs": [
        {
          "output_type": "stream",
          "text": [
            "12145,73904,https://www.reus.cat/agenda/finestra-oberta-reus-el-modernisme-7,Finestra oberta a Reus: el Modernisme,\"\",\"\",\"\",\"\",\"\",,,2020-06-12T07:00:00,2020-06-12T23:45:00,\"\",\"\",Reus Promoció\n",
            "12146,74017,https://www.reus.cat/agenda/corpus-2020-lou-com-balla-0,Corpus 2020: l’Ou com Balla,Corpus A Reus,Tradició i festes populars,Tradició i festes populars,\"\",\"\",,,2020-06-12T10:30:00,2020-06-12T10:30:00,\"\",https://www.facebook.com/reuscultura,\"\"\n",
            "12147,74018,https://www.reus.cat/agenda/corpus-2020-fes-la-catifa-de-corpus,Corpus 2020: Fes la catifa de Corpus,Corpus A Reus,Tradició i festes populars,Tradició i festes populars,\"\",\"\",,,2020-06-12T17:00:00,2020-06-12T17:00:00,\"\",https://www.facebook.com/reuscultura,\"\"\n",
            "12148,74019,https://www.reus.cat/agenda/corpus-2020-lou-com-balla-1,Corpus 2020: l'Ou com Balla,Corpus A Reus,Tradició i festes populars,Tradició i festes populars,\"\",\"\",,,2020-06-13T10:30:00,2020-06-13T10:30:00,\"\",https://www.facebook.com/reuscultura,\"\"\n",
            "12149,72403,https://www.reus.cat/agenda/ruta-del-modernisme-reus-1900-91,\"Ruta del Modernisme \"\"Reus 1900\"\"\",\"\",\"\",\"\",Estació Enològica,\"Passeig Sunyer, 4-6\",41.154492,1.101456,2020-06-13T11:30:00,2020-06-13T13:30:00,8 € / 7€ / gratuït infants fins a 8 anys,\"\",Reus Promoció\n",
            "12150,74020,https://www.reus.cat/agenda/corpus-2020-toc-de-festa-0,Corpus 2020: Toc de Festa,Corpus A Reus,Tradició i festes populars,Tradició i festes populars,\"\",\"\",,,2020-06-13T12:00:00,2020-06-13T12:00:00,\"\",\"\",\"\"\n",
            "12151,73834,https://www.reus.cat/agenda/jocs-de-rol-ocupa-temps-lliure-jugant-casa,Jocs de rol. Ocupa temps lliure jugant a casa,\"\",\"\",\"\",\"\",\"\",,,2020-06-13T18:00:00,2020-06-13T18:00:00,Gratuït,https://www.joventutreus.cat,\"\"\n",
            "12152,74021,https://www.reus.cat/agenda/corpus-2020-el-cano-de-les-festes,Corpus 2020: el Canó de les Festes,Corpus A Reus,Tradició i festes populars,Tradició i festes populars,\"\",\"\",,,2020-06-13T18:30:00,2020-06-13T18:30:00,\"\",https://www.facebook.com/reuscultura,\"\"\n",
            "12153,74022,https://www.reus.cat/agenda/corpus-2020-emissio-del-programa-gaudeix-la-festa,\"Corpus 2020: emissió del programa \"\"Gaudeix la Festa\"\"\",Corpus A Reus,Tradició i festes populars,Tradició i festes populars,\"\",\"\",,,2020-06-13T21:00:00,2020-06-13T21:00:00,\"\",http://www.canalreustv.cat/,\"\"\n",
            "12154,74006,https://www.reus.cat/agenda/sant-pere-2020-solemne-ofici-concelebrat-i-professo,Sant Pere 2020: solemne ofici concelebrat i professó,Sant Pere A Reus,Tradició i festes populars,Tradició i festes populars,\"\",\"\",,,2020-06-29T18:30:00,2020-06-07T18:30:00,\"\",http://www.canalreustv.cat/,\"\"\n"
          ],
          "name": "stdout"
        }
      ]
    },
    {
      "cell_type": "markdown",
      "metadata": {
        "id": "ieF6OV6K0Lv6"
      },
      "source": [
        "### Budget"
      ]
    },
    {
      "cell_type": "code",
      "metadata": {
        "id": "LB-q0tc7YHBo"
      },
      "source": [
        "# Tarragona: Cens i despeses per habitant"
      ],
      "execution_count": null,
      "outputs": []
    },
    {
      "cell_type": "code",
      "metadata": {
        "id": "Z2ji1uRuT-5p"
      },
      "source": [
        "!wget -O gesEcEns.csv \"https://seu-e.cat/ca/web/tarragona/dades-obertes?p_p_id=aoctransparenciadadesobertes_WAR_aoctransparenciaportlet&p_p_lifecycle=2&p_p_state=normal&p_p_mode=view&p_p_cacheability=cacheLevelPage&p_p_col_id=column-1&p_p_col_count=1&_aoctransparenciadadesobertes_WAR_aoctransparenciaportlet_filterEns=CODI_ENS%253A4314820002&_aoctransparenciadadesobertes_WAR_aoctransparenciaportlet_resourceId=16416882-d418-4be6-9b82-ceb398bd60f8&_aoctransparenciadadesobertes_WAR_aoctransparenciaportlet_cmd=downloadEnsCSV&_aoctransparenciadadesobertes_WAR_aoctransparenciaportlet_resourceName=Resum+indicadors+gesti%C3%B3+econ%C3%B2mica+per+ens&_aoctransparenciadadesobertes_WAR_aoctransparenciaportlet_mvcPath=%2Fhtml%2Ftransparenciadadesobertes%2FdatasetResource.jsp\""
      ],
      "execution_count": null,
      "outputs": []
    },
    {
      "cell_type": "code",
      "metadata": {
        "id": "F_qtGs0WT-5q"
      },
      "source": [
        "!ls -lah"
      ],
      "execution_count": null,
      "outputs": []
    },
    {
      "cell_type": "code",
      "metadata": {
        "id": "DHTGFxe7T-5r"
      },
      "source": [
        "! head gesEcEns.csv"
      ],
      "execution_count": null,
      "outputs": []
    },
    {
      "cell_type": "code",
      "metadata": {
        "id": "oMMdHig7T-5r"
      },
      "source": [
        "! tail gesEcEns.csv"
      ],
      "execution_count": null,
      "outputs": []
    },
    {
      "cell_type": "code",
      "metadata": {
        "id": "ajIRab2DfswL"
      },
      "source": [
        "# Pressupostos dels ens municipals de Catalunya per any tipus partida i classificació"
      ],
      "execution_count": null,
      "outputs": []
    },
    {
      "cell_type": "code",
      "metadata": {
        "id": "du6iQ0zqT_H5"
      },
      "source": [
        "!wget -O prptEnsCat.csv \"https://analisi.transparenciacatalunya.cat/api/views/4g9s-gzp6/rows.csv?accessType=DOWNLOAD&sorting=true\""
      ],
      "execution_count": null,
      "outputs": []
    },
    {
      "cell_type": "code",
      "metadata": {
        "id": "qWZbPOM_T_H6"
      },
      "source": [
        "!ls -lah"
      ],
      "execution_count": null,
      "outputs": []
    },
    {
      "cell_type": "code",
      "metadata": {
        "id": "Un0i-jBHT_H8"
      },
      "source": [
        "! head prptEnsCat.csv"
      ],
      "execution_count": null,
      "outputs": []
    },
    {
      "cell_type": "code",
      "metadata": {
        "id": "lTkQvAteT_IB"
      },
      "source": [
        "! tail prptEnsCat.csv"
      ],
      "execution_count": null,
      "outputs": []
    },
    {
      "cell_type": "markdown",
      "metadata": {
        "id": "KadNELgVBdam"
      },
      "source": [
        "### Commercial business"
      ]
    },
    {
      "cell_type": "code",
      "metadata": {
        "id": "gb3z3ZGrgQKB"
      },
      "source": [
        "# Cens d'establiments comercials de Catalunya\n",
        "# https://analisi.transparenciacatalunya.cat/Economia/Servei-de-consulta-del-Cens-d-establiments-comerci/2dhj-q3r8"
      ],
      "execution_count": null,
      "outputs": []
    },
    {
      "cell_type": "code",
      "metadata": {
        "id": "inX4P_tYT_Xi"
      },
      "source": [
        "!wget -O CECC_Cat.csv \"https://analisi.transparenciacatalunya.cat/api/views/2dhj-q3r8/rows.csv?accessType=DOWNLOAD&sorting=true\""
      ],
      "execution_count": null,
      "outputs": []
    },
    {
      "cell_type": "code",
      "metadata": {
        "id": "Im0Tzf5qT_Xj"
      },
      "source": [
        "!ls -lah"
      ],
      "execution_count": null,
      "outputs": []
    },
    {
      "cell_type": "code",
      "metadata": {
        "id": "VZBnLE57T_Xj"
      },
      "source": [
        "! head CECC_Cat.csv"
      ],
      "execution_count": null,
      "outputs": []
    },
    {
      "cell_type": "code",
      "metadata": {
        "id": "UmrDoWGOT_Xl"
      },
      "source": [
        "! tail CECC_Cat.csv"
      ],
      "execution_count": null,
      "outputs": []
    },
    {
      "cell_type": "code",
      "metadata": {
        "id": "aYmXXNnEiIGQ"
      },
      "source": [
        "# Oferta comercial per activitats\n",
        "# https://analisi.transparenciacatalunya.cat/Economia/Servei-de-consulta-de-l-oferta-comercial-per-activ/8my5-y3qb"
      ],
      "execution_count": null,
      "outputs": []
    },
    {
      "cell_type": "code",
      "metadata": {
        "id": "piYmkinYiI8R"
      },
      "source": [
        "!wget -O ofComAct.csv \"https://analisi.transparenciacatalunya.cat/api/views/8my5-y3qb/rows.csv?accessType=DOWNLOAD&sorting=true\""
      ],
      "execution_count": null,
      "outputs": []
    },
    {
      "cell_type": "code",
      "metadata": {
        "id": "vsKZALTCiI8T"
      },
      "source": [
        "!ls -lah"
      ],
      "execution_count": null,
      "outputs": []
    },
    {
      "cell_type": "code",
      "metadata": {
        "id": "9DGRonqIiI8U"
      },
      "source": [
        "! head ofComAct.csv"
      ],
      "execution_count": null,
      "outputs": []
    },
    {
      "cell_type": "code",
      "metadata": {
        "id": "HaL2vwsEiI8W"
      },
      "source": [
        "! tail ofComAct.csv"
      ],
      "execution_count": null,
      "outputs": []
    },
    {
      "cell_type": "code",
      "metadata": {
        "id": "MHgNyPdFiO8I"
      },
      "source": [
        "# Empreses i establiments, per sector i assalariats\n",
        "# https://idescat.cat/pub/?id=ee"
      ],
      "execution_count": null,
      "outputs": []
    },
    {
      "cell_type": "code",
      "metadata": {
        "id": "r11NjUS0iO8K"
      },
      "source": [
        "# Any 2020\n",
        "!wget -O estblSecTreb20.csv \"https://idescat.cat/pub/?id=ee&n=10919&t=202000&f=csv\""
      ],
      "execution_count": null,
      "outputs": []
    },
    {
      "cell_type": "code",
      "metadata": {
        "id": "SxjDVVLXm8YR"
      },
      "source": [
        "! head gestblSecTreb20.csv"
      ],
      "execution_count": null,
      "outputs": []
    },
    {
      "cell_type": "code",
      "metadata": {
        "id": "Z_oWt9Ssm8YU"
      },
      "source": [
        "! tail gestblSecTreb20.csv"
      ],
      "execution_count": null,
      "outputs": []
    },
    {
      "cell_type": "code",
      "metadata": {
        "id": "jZVQcEBllwR2"
      },
      "source": [
        "# Any 2019\n",
        "!wget -O estblSecTreb19.csv \"https://idescat.cat/pub/?id=ee&n=10919&t=201900&f=csv\""
      ],
      "execution_count": null,
      "outputs": []
    },
    {
      "cell_type": "code",
      "metadata": {
        "id": "-5iV18nzm-E6"
      },
      "source": [
        "! head estblSecTreb19.csv"
      ],
      "execution_count": null,
      "outputs": []
    },
    {
      "cell_type": "code",
      "metadata": {
        "id": "1ywkptPCm-E8"
      },
      "source": [
        "! tail estblSecTreb19.csv"
      ],
      "execution_count": null,
      "outputs": []
    },
    {
      "cell_type": "code",
      "metadata": {
        "id": "H4QpJJjgl1MG"
      },
      "source": [
        "# Any 2018\n",
        "!wget -O estblSecTreb18.csv \"https://idescat.cat/pub/?id=ee&n=10919&t=201800&f=csv\""
      ],
      "execution_count": null,
      "outputs": []
    },
    {
      "cell_type": "code",
      "metadata": {
        "id": "CLrVpEaunB1v"
      },
      "source": [
        "! head estblSecTreb18.csv"
      ],
      "execution_count": null,
      "outputs": []
    },
    {
      "cell_type": "code",
      "metadata": {
        "id": "E7EeKKYlnB1x"
      },
      "source": [
        "! tail estblSecTreb18.csv"
      ],
      "execution_count": null,
      "outputs": []
    },
    {
      "cell_type": "code",
      "metadata": {
        "id": "XBxJv-iqiO8L"
      },
      "source": [
        "!ls -lah"
      ],
      "execution_count": null,
      "outputs": []
    },
    {
      "cell_type": "code",
      "metadata": {
        "id": "Ts7w0Iq6Siw1"
      },
      "source": [
        "# Reus: Cens d'activitats econòmiques i de negocis\n",
        "# https://opendata.reus.cat/dataset/cens-dactivitats-de-la-ciutat-de-reus"
      ],
      "execution_count": null,
      "outputs": []
    },
    {
      "cell_type": "code",
      "metadata": {
        "colab": {
          "base_uri": "https://localhost:8080/"
        },
        "id": "qiljJ-P3Siw5",
        "outputId": "7148c4d0-7e14-466d-fa6d-e8de6f6c91bc"
      },
      "source": [
        "# Llistat actual\n",
        "!wget --no-check-certificate -O actEcnReus.csv \"https://opendata.reus.cat/datastore/dump/dcaf22c4-d1ac-4c64-955f-422071a54e54?format=csv&bom=true\""
      ],
      "execution_count": null,
      "outputs": [
        {
          "output_type": "stream",
          "text": [
            "--2021-03-25 21:35:59--  https://opendata.reus.cat/datastore/dump/dcaf22c4-d1ac-4c64-955f-422071a54e54?format=csv&bom=true\n",
            "Resolving opendata.reus.cat (opendata.reus.cat)... 213.0.28.29\n",
            "Connecting to opendata.reus.cat (opendata.reus.cat)|213.0.28.29|:443... connected.\n",
            "WARNING: cannot verify opendata.reus.cat's certificate, issued by ‘CN=Sectigo RSA Organization Validation Secure Server CA,O=Sectigo Limited,L=Salford,ST=Greater Manchester,C=GB’:\n",
            "  Unable to locally verify the issuer's authority.\n",
            "HTTP request sent, awaiting response... 200 OK\n",
            "Length: unspecified [text/csv]\n",
            "Saving to: ‘actEcnReus.csv’\n",
            "\n",
            "actEcnReus.csv          [             <=>    ]   1.33M   286KB/s    in 4.8s    \n",
            "\n",
            "2021-03-25 21:36:05 (286 KB/s) - ‘actEcnReus.csv’ saved [1395291]\n",
            "\n"
          ],
          "name": "stdout"
        }
      ]
    },
    {
      "cell_type": "code",
      "metadata": {
        "colab": {
          "base_uri": "https://localhost:8080/"
        },
        "id": "vyjSL5dSThfa",
        "outputId": "d39d5068-06a5-487e-b7cf-3fde69a39d93"
      },
      "source": [
        "# Historic d'activitats\n",
        "!wget --no-check-certificate -O actEcnReusHist.csv \"https://opendata.reus.cat/datastore/dump/bb592690-77fb-41ff-b2d1-142972125b7c?format=csv&bom=true\""
      ],
      "execution_count": null,
      "outputs": [
        {
          "output_type": "stream",
          "text": [
            "--2021-03-25 21:36:16--  https://opendata.reus.cat/datastore/dump/bb592690-77fb-41ff-b2d1-142972125b7c?format=csv&bom=true\n",
            "Resolving opendata.reus.cat (opendata.reus.cat)... 213.0.28.29\n",
            "Connecting to opendata.reus.cat (opendata.reus.cat)|213.0.28.29|:443... connected.\n",
            "WARNING: cannot verify opendata.reus.cat's certificate, issued by ‘CN=Sectigo RSA Organization Validation Secure Server CA,O=Sectigo Limited,L=Salford,ST=Greater Manchester,C=GB’:\n",
            "  Unable to locally verify the issuer's authority.\n",
            "HTTP request sent, awaiting response... 200 OK\n",
            "Length: unspecified [text/csv]\n",
            "Saving to: ‘actEcnReusHist.csv’\n",
            "\n",
            "actEcnReusHist.csv      [  <=>               ]   3.57M   229KB/s    in 19s     \n",
            "\n",
            "2021-03-25 21:36:37 (188 KB/s) - ‘actEcnReusHist.csv’ saved [3746960]\n",
            "\n"
          ],
          "name": "stdout"
        }
      ]
    },
    {
      "cell_type": "code",
      "metadata": {
        "colab": {
          "base_uri": "https://localhost:8080/"
        },
        "id": "dLt4zXHGSiw7",
        "outputId": "9654f616-d020-42d7-8e23-ef7e40846c42"
      },
      "source": [
        "!ls -lah"
      ],
      "execution_count": null,
      "outputs": [
        {
          "output_type": "stream",
          "text": [
            "total 5.0M\n",
            "drwxr-xr-x 1 root root 4.0K Mar 25 21:36 .\n",
            "drwxr-xr-x 1 root root 4.0K Mar 25 21:33 ..\n",
            "-rw-r--r-- 1 root root 1.4M Mar 25 21:36 actEcnReus.csv\n",
            "-rw-r--r-- 1 root root 3.6M Mar 25 21:36 actEcnReusHist.csv\n",
            "drwxr-xr-x 4 root root 4.0K Mar 18 13:36 .config\n",
            "drwxr-xr-x 1 root root 4.0K Mar 18 13:36 sample_data\n"
          ],
          "name": "stdout"
        }
      ]
    },
    {
      "cell_type": "code",
      "metadata": {
        "colab": {
          "base_uri": "https://localhost:8080/"
        },
        "id": "khHLfuYASiw9",
        "outputId": "78ad92b6-022e-46ca-cc1c-645a792397de"
      },
      "source": [
        "! head actEcnReus.csv"
      ],
      "execution_count": null,
      "outputs": [
        {
          "output_type": "stream",
          "text": [
            "﻿_id,CODI LLICÈNCIA,CODI ACTIVITAT,NOM ACTIVITAT,DESCRIPCIÓ,CODI CCAE 2009,DESCRIPCIÓ CCAE 2009,DATA DE LEGALITZACIÓ,BARRI,DIRECCIÓ,CODI POSTAL,MUNICIPI,SUPERFÍCIE COBERTA,ANNEX 2009,ANNEX 2010,ANNEX 14,ANNEX,ANNEX 16\r\n",
            "1,18626,19847,\"\",magatzem maquinària frigorífica,5210,dipòsit i emmagatzematge,,AGRO-REUS,CR VICTOR CATALA  71,43206,REUS,0.0,0,No aplicable,\"\",No aplicable,\"\"\n",
            "2,18625,19845,\"\",taller i magatzem maquinària pala pàdel,5210,dipòsit i emmagatzematge,,MAS DE LES ÀNIMES,CR JOAQUIM RUYRA  5,43206,REUS,0.0,0,No aplicable,\"\",No aplicable,\"\"\n",
            "3,18624,19844,\"\",transformació de vidre pla a vidre manufacturat,2312,manipulació i transformació del vidre pla,,GRANJA VILA,\"CR IGUALTAT, DE LA  17\",43204,REUS,0.0,III,No aplicable,\"\",No aplicable,\"\"\n",
            "4,18622,19842,\"\",magatzem de complements per automoció,5210,dipòsit i emmagatzematge,,DINA,\"CR BALAGUER, DE  16\",43204,REUS,0.0,0,No aplicable,\"\",No aplicable,\"\"\n",
            "5,18621,19841,\"\",perruqueria / barberia,9602,perruqueria i altres tractaments de bellesa,,HORTS MIRÓ,PL PURISSIMA SANG  37,43201,REUS,0.0,0,No aplicable,\"\",No aplicable,Innòqües\n",
            "6,18619,19839,\"\",\"taller, magatzem de instal.lador xarxes de telecomunicació\",4222,construcció de xarxes elèctriques i de telecomunicacions,,PI DE BOFARULL,\"CR GRASSA, DE LA  26-28\",43204,REUS,0.0,0,No aplicable,\"\",No aplicable,Baix Risc\n",
            "7,18617,19837,\"\",reparació de vidres per vaixells,2312,manipulació i transformació del vidre pla,,MAS DE LES ÀNIMES,\"CR VICENT ANDRES ESTELLES, DE  11\",43206,REUS,0.0,III,No aplicable,\"\",No aplicable,\"\"\n",
            "8,18616,19836,\"\",magatzem equips climatització,5210,dipòsit i emmagatzematge,,DINA,CR SABADELL  38,43204,REUS,0.0,0,No aplicable,\"\",No aplicable,\"\"\n",
            "9,18615,7757,Cargill,\"industria d'extraccio, refinacio i envasat d'olis vegetals\",3700,recollida i tractament d'aigües residuals,2014-01-27T00:00:00,MAS DE LES ÀNIMES,\"AV FALSET, DE  127\",43206,REUS,0.0,0,No aplicable,\"\",Autorització Ambiental,\"\"\n"
          ],
          "name": "stdout"
        }
      ]
    },
    {
      "cell_type": "code",
      "metadata": {
        "colab": {
          "base_uri": "https://localhost:8080/"
        },
        "id": "KgKMRkynSiw_",
        "outputId": "13aeb7f4-4139-42e7-8bad-84a6098e0d74"
      },
      "source": [
        "! tail actEcnReus.csv"
      ],
      "execution_count": null,
      "outputs": [
        {
          "output_type": "stream",
          "text": [
            "6229,47,13,\"\",planta de recollida i tractament d'olis procedents d'usos alimentaris,1091,fabricació de productes per a l'alimentació d'animals de granja,1982-09-10T00:00:00,\"\",\"\",,\"\",1.0,\"\",No aplicable,\"\",Llicència Ambiental,\"\"\n",
            "6230,44,9804,\"\",magatzem lecitines,1091,fabricació de productes per a l'alimentació d'animals de granja,1997-04-04T00:00:00,MAS DE LES ÀNIMES,CR ADRIA GUAL  4,43206,REUS,0.0,\"\",No aplicable,\"\",Llicència Ambiental,\"\"\n",
            "6231,43,10661,Sece Sa,taller electromecanic i magatzem de material electric,4321,instal·lacions elèctriques,1999-07-14T00:00:00,MAS DE LES ÀNIMES,CR ADRIA GUAL  16,43206,REUS,530.0,\"\",No aplicable,\"\",Llicència Ambiental,\"\"\n",
            "6232,36,15,Vermuts Miro,criança i elaboracio de vins diversos,1102,elaboració de vins,2003-03-10T00:00:00,\"\",\"\",,\"\",0.0,\"\",\"\",\"\",Llicència Ambiental,\"\"\n",
            "6233,23,13731,El Marfull,llar infants,8891,activitats d'atenció diürna d'infants,2005-09-09T00:00:00,HORTS MIRÓ,\"PL ABAT OLIBA, DE L'  35\",43204,REUS,0.0,\"\",\"\",\"\",Llicència Ambiental,\"\"\n",
            "6234,21,13495,\"\",condicionador aire,0,sense grup definit,,HORTS MIRÓ,\"PL ABAT OLIBA, DE L'  29\",43204,REUS,0.0,\"\",No aplicable,\"\",\"\",\"\"\n",
            "6235,20,11218,\"\",oficina assegurances,6511,assegurances de vida,2000-03-29T00:00:00,HORTS MIRÓ,\"PL ABAT OLIBA, DE L'  29\",43204,REUS,67.0,\"\",No aplicable,\"\",No inclosa amb documentació tècnica,\"\"\n",
            "6236,14,13092,\"\",reportatges audiovisuals i plato de tv amb parquing,0,sense grup definit,2003-11-19T00:00:00,\"\",\"\",,\"\",236.86,\"\",No aplicable,\"\",No inclosa amb projecte tècnic,\"\"\n",
            "6237,7,8245,\"\",oficina per empresa constructora,4121,construcció d'edificis residencials,1995-08-09T00:00:00,HORTS MIRÓ,\"CR ABAT ESCARRE, DE L'  18\",43204,REUS,83.26,\"\",No aplicable,\"\",No inclosa amb documentació tècnica,\"\"\n",
            "6238,4,13405,Santander Central Hispano,oficina bancària,6419,altres tipus de mediació monetària,2004-09-29T00:00:00,\"\",\"\",,\"\",266.54,\"\",No aplicable,\"\",No inclosa amb projecte tècnic,\"\"\n"
          ],
          "name": "stdout"
        }
      ]
    },
    {
      "cell_type": "code",
      "metadata": {
        "colab": {
          "base_uri": "https://localhost:8080/"
        },
        "id": "dO3Q3OPKT727",
        "outputId": "055d7eb5-5b44-4acb-8834-f012a12f0b99"
      },
      "source": [
        "! head actEcnReusHist.csv"
      ],
      "execution_count": null,
      "outputs": [
        {
          "output_type": "stream",
          "text": [
            "﻿_id,CODI LLICÈNCIA,CODI ACTIVITAT,NOM ACTIVITAT,DESCRIPCIÓ,CODI CCAE 2009,DESCRIPCIÓ CCAE 2009,DATA DE LEGALITZACIÓ,DATA DE BAIXA,BARRI,DIRECCIÓ,CODI POSTAL,MUNICIPI,SUPERFÍCIE COBERTA,ANNEX 2009,ANNEX 2010,ANNEX 14,ANNEX,ANNEX 16\r\n",
            "1,18626,19847,\"\",magatzem maquinària frigorífica,5210,dipòsit i emmagatzematge,,,AGRO-REUS,CR VICTOR CATALA  71,43206,REUS,0.0,0,No aplicable,\"\",No aplicable,\"\"\n",
            "2,18625,19845,\"\",taller i magatzem maquinària pala pàdel,5210,dipòsit i emmagatzematge,,,MAS DE LES ÀNIMES,CR JOAQUIM RUYRA  5,43206,REUS,0.0,0,No aplicable,\"\",No aplicable,\"\"\n",
            "3,18624,19844,\"\",transformació de vidre pla a vidre manufacturat,2312,manipulació i transformació del vidre pla,,,GRANJA VILA,\"CR IGUALTAT, DE LA  17\",43204,REUS,0.0,III,No aplicable,\"\",No aplicable,\"\"\n",
            "4,18622,19842,\"\",magatzem de complements per automoció,5210,dipòsit i emmagatzematge,,,DINA,\"CR BALAGUER, DE  16\",43204,REUS,0.0,0,No aplicable,\"\",No aplicable,\"\"\n",
            "5,18621,19841,\"\",perruqueria / barberia,9602,perruqueria i altres tractaments de bellesa,,,HORTS MIRÓ,PL PURISSIMA SANG  37,43201,REUS,0.0,0,No aplicable,\"\",No aplicable,Innòqües\n",
            "6,18619,19839,\"\",\"taller, magatzem de instal.lador xarxes de telecomunicació\",4222,construcció de xarxes elèctriques i de telecomunicacions,,,PI DE BOFARULL,\"CR GRASSA, DE LA  26-28\",43204,REUS,0.0,0,No aplicable,\"\",No aplicable,Baix Risc\n",
            "7,18617,19837,\"\",reparació de vidres per vaixells,2312,manipulació i transformació del vidre pla,,,MAS DE LES ÀNIMES,\"CR VICENT ANDRES ESTELLES, DE  11\",43206,REUS,0.0,III,No aplicable,\"\",No aplicable,\"\"\n",
            "8,18616,19836,\"\",magatzem equips climatització,5210,dipòsit i emmagatzematge,,,DINA,CR SABADELL  38,43204,REUS,0.0,0,No aplicable,\"\",No aplicable,\"\"\n",
            "9,18615,7757,Cargill,\"industria d'extraccio, refinacio i envasat d'olis vegetals\",3700,recollida i tractament d'aigües residuals,2014-01-27T00:00:00,,MAS DE LES ÀNIMES,\"AV FALSET, DE  127\",43206,REUS,0.0,0,No aplicable,\"\",Autorització Ambiental,\"\"\n"
          ],
          "name": "stdout"
        }
      ]
    },
    {
      "cell_type": "code",
      "metadata": {
        "colab": {
          "base_uri": "https://localhost:8080/"
        },
        "id": "FBzgZT01T728",
        "outputId": "ab61f967-98b9-4f97-fddb-1cbbc9dbac51"
      },
      "source": [
        "! tail actEcnReusHist.csv"
      ],
      "execution_count": null,
      "outputs": [
        {
          "output_type": "stream",
          "text": [
            "16232,17,12775,\"\",taller mecànic,2562,enginyeria mecànica general per compte d'altri,0004-01-29T00:00:00,2008-05-02T00:00:00,HORTS MIRÓ,\"PL ABAT OLIBA, DE L'  25\",43204,REUS,237.82,\"\",No aplicable,\"\",Règim de comunicació,\"\"\n",
            "16233,14,13092,\"\",reportatges audiovisuals i plato de tv amb parquing,0,sense grup definit,2003-11-19T00:00:00,,\"\",\"\",,\"\",236.86,\"\",No aplicable,\"\",No inclosa amb projecte tècnic,\"\"\n",
            "16234,12,14514,Tigeres,perruqueria,9602,perruqueria i altres tractaments de bellesa,2006-11-23T00:00:00,2020-05-19T00:00:00,HORTS MIRÓ,\"CR ABAT ESCARRE, DE L'  22\",43204,REUS,42.28,\"\",\"\",\"\",No inclosa amb documentació tècnica,\"\"\n",
            "16235,11,8323,\"\",quiosc,4762,comerç al detall de periòdics i articles de papereria en establiments especialitzats,0095-12-09T00:00:00,2008-05-02T00:00:00,HORTS MIRÓ,\"CR ABAT ESCARRE, DE L'  22\",43204,REUS,42.5,\"\",No aplicable,\"\",No inclosa amb projecte tècnic,\"\"\n",
            "16236,10,8677,\"\",oficina i magatzem d'instal·lacions d'electricitat,4322,\"lampisteria, instal·lacions de calefacció i aire condicionat\",1996-11-26T00:00:00,2012-07-18T00:00:00,HORTS MIRÓ,\"CR ABAT ESCARRE, DE L'  20\",43204,REUS,260.0,\"\",\"\",\"\",Règim de comunicació,\"\"\n",
            "16237,9,13560,\"\",oficines de servei de prevenció aliè,0,sense grup definit,2004-12-20T00:00:00,2007-06-08T00:00:00,HORTS MIRÓ,\"CR ABAT ESCARRE, DE L'  17\",43204,REUS,264.94,\"\",No aplicable,\"\",No inclosa amb projecte tècnic,\"\"\n",
            "16238,7,8245,\"\",oficina per empresa constructora,4121,construcció d'edificis residencials,1995-08-09T00:00:00,,HORTS MIRÓ,\"CR ABAT ESCARRE, DE L'  18\",43204,REUS,83.26,\"\",No aplicable,\"\",No inclosa amb documentació tècnica,\"\"\n",
            "16239,5,13560,\"\",oficines de servei de prevenció aliè,6621,avaluació de riscos i danys,2007-06-08T00:00:00,2013-05-14T00:00:00,HORTS MIRÓ,\"CR ABAT ESCARRE, DE L'  17\",43204,REUS,264.94,\"\",\"\",\"\",No inclosa amb projecte tècnic,\"\"\n",
            "16240,4,13405,Santander Central Hispano,oficina bancària,6419,altres tipus de mediació monetària,2004-09-29T00:00:00,,\"\",\"\",,\"\",266.54,\"\",No aplicable,\"\",No inclosa amb projecte tècnic,\"\"\n",
            "16241,1,13387,\"\",exposicio comerç motocicletes  amb  magatzem,4540,\"venda, manteniment i reparació de motocicletes, i dels seus recanvis i accessoris\",2004-08-19T00:00:00,2020-01-12T00:00:00,CASC ANTIC,\"CR ABADIA, DE L'  23\",43201,REUS,197.89,\"\",\"\",\"\",No inclosa amb projecte tècnic,\"\"\n"
          ],
          "name": "stdout"
        }
      ]
    },
    {
      "cell_type": "markdown",
      "metadata": {
        "id": "NMdoYTDFByle"
      },
      "source": [
        "### Confidence and Activity Indicators"
      ]
    },
    {
      "cell_type": "code",
      "metadata": {
        "id": "1hCzH2PoiPp8"
      },
      "source": [
        "# Index de confiança empresarial armonitzat\n",
        "# https://idescat.cat/pub/?id=iceh"
      ],
      "execution_count": null,
      "outputs": []
    },
    {
      "cell_type": "code",
      "metadata": {
        "id": "xupSds1-iPp9"
      },
      "source": [
        "!wget -O IdxConfEmpH.csv \"https://idescat.cat/indicadors/?id=conj&n=10234&col=1&f=csv\""
      ],
      "execution_count": null,
      "outputs": []
    },
    {
      "cell_type": "code",
      "metadata": {
        "id": "SElGOGTmiPp-"
      },
      "source": [
        "!ls -lah"
      ],
      "execution_count": null,
      "outputs": []
    },
    {
      "cell_type": "code",
      "metadata": {
        "id": "zKLGiySiiPp_"
      },
      "source": [
        "! head IdxConfEmpH.csv"
      ],
      "execution_count": null,
      "outputs": []
    },
    {
      "cell_type": "code",
      "metadata": {
        "id": "e3z9qZ3ZiPqC"
      },
      "source": [
        "! tail IdxConfEmpH.csv"
      ],
      "execution_count": null,
      "outputs": []
    },
    {
      "cell_type": "code",
      "metadata": {
        "id": "RxTR-_OviP6k"
      },
      "source": [
        "#  Indicadors d'activitat del sector serveis\n",
        "# https://idescat.cat/pub/?id=iass"
      ],
      "execution_count": null,
      "outputs": []
    },
    {
      "cell_type": "code",
      "metadata": {
        "id": "wedYMIQ9iP6m"
      },
      "source": [
        "!wget -O IdxActSSPrdVneg.csv \"https://idescat.cat/indicadors/?id=conj&n=10267&col=1&f=csv\""
      ],
      "execution_count": null,
      "outputs": []
    },
    {
      "cell_type": "code",
      "metadata": {
        "id": "DWKLQPsLiP6n"
      },
      "source": [
        "!ls -lah"
      ],
      "execution_count": null,
      "outputs": []
    },
    {
      "cell_type": "code",
      "metadata": {
        "id": "H7TLkU6fiP6o"
      },
      "source": [
        "! head IdxActSSPrdVneg.csv"
      ],
      "execution_count": null,
      "outputs": []
    },
    {
      "cell_type": "code",
      "metadata": {
        "id": "FZXTsMV9iP6p"
      },
      "source": [
        "! tail IdxActSSPrdVneg.csv"
      ],
      "execution_count": null,
      "outputs": []
    },
    {
      "cell_type": "markdown",
      "metadata": {
        "id": "UA0EzzAFB9q0"
      },
      "source": [
        "### Local entities"
      ]
    },
    {
      "cell_type": "code",
      "metadata": {
        "id": "wTLiwyqBdK1Y"
      },
      "source": [
        "# Reus Govern Obert i Transparència\n",
        "# https://www.seu-e.cat/ca/web/reus"
      ],
      "execution_count": null,
      "outputs": []
    },
    {
      "cell_type": "code",
      "metadata": {
        "id": "i1VVxDRRiQKU"
      },
      "source": [
        "# Reus en Xifres.\n",
        "# https://www.idescat.cat/emex/?id=431233"
      ],
      "execution_count": null,
      "outputs": []
    },
    {
      "cell_type": "code",
      "metadata": {
        "id": "8rbdLAXviQKV"
      },
      "source": [
        "!wget -O muniReus.csv \"https://www.idescat.cat/emex/?id=431233&f=csv\""
      ],
      "execution_count": null,
      "outputs": []
    },
    {
      "cell_type": "code",
      "metadata": {
        "id": "ko_fVSiZiQKW"
      },
      "source": [
        "!ls -lah"
      ],
      "execution_count": null,
      "outputs": []
    },
    {
      "cell_type": "code",
      "metadata": {
        "id": "QPidsaeTiQKX"
      },
      "source": [
        "! head muniReus.csv.csv"
      ],
      "execution_count": null,
      "outputs": []
    },
    {
      "cell_type": "code",
      "metadata": {
        "id": "skyhfkbCiQKX"
      },
      "source": [
        "! tail muniReus.csv.csv"
      ],
      "execution_count": null,
      "outputs": []
    },
    {
      "cell_type": "markdown",
      "metadata": {
        "id": "-wJYH9olwG76"
      },
      "source": [
        "### Subvencions i ajudes públiques"
      ]
    },
    {
      "cell_type": "code",
      "metadata": {
        "id": "pff-0f-tQI2p"
      },
      "source": [
        "# Sistema Nacional de Publicidad de Subvenciones y Ayudas Públicas\n",
        "# https://www.infosubvenciones.es/bdnstrans/GE/es/convocatorias"
      ],
      "execution_count": null,
      "outputs": []
    },
    {
      "cell_type": "code",
      "metadata": {
        "id": "W2151DaWQI2w"
      },
      "source": [
        "!wget -O AjPublicas.csv \"h\""
      ],
      "execution_count": null,
      "outputs": []
    },
    {
      "cell_type": "code",
      "metadata": {
        "id": "1eLHLkfbQI2z"
      },
      "source": [
        "!ls -lah"
      ],
      "execution_count": null,
      "outputs": []
    },
    {
      "cell_type": "code",
      "metadata": {
        "id": "sPjYwdEfQI23"
      },
      "source": [
        "! head AjPublicas.csv.csv"
      ],
      "execution_count": null,
      "outputs": []
    },
    {
      "cell_type": "code",
      "metadata": {
        "id": "QiE6bG8XQI24"
      },
      "source": [
        "! tail AjPublicas.csv.csv"
      ],
      "execution_count": null,
      "outputs": []
    },
    {
      "cell_type": "code",
      "metadata": {
        "id": "X7I9hfuRQYLa"
      },
      "source": [
        "# Reus: subvencions ajuntament\n",
        "# https://opendata.reus.cat/dataset/subv"
      ],
      "execution_count": null,
      "outputs": []
    },
    {
      "cell_type": "code",
      "metadata": {
        "colab": {
          "base_uri": "https://localhost:8080/"
        },
        "id": "rQ_wP4b1QYLf",
        "outputId": "720240af-69b5-4341-c4f3-188deae69698"
      },
      "source": [
        "!wget --no-check-certificate -O ajPublicasReus.csv \"https://opendata.reus.cat/datastore/dump/da6c4730-b8c8-4a0e-b027-d98a6654baaa?format=csv&bom=true\""
      ],
      "execution_count": null,
      "outputs": [
        {
          "output_type": "stream",
          "text": [
            "--2021-03-25 22:19:03--  https://opendata.reus.cat/datastore/dump/da6c4730-b8c8-4a0e-b027-d98a6654baaa?format=csv&bom=true\n",
            "Resolving opendata.reus.cat (opendata.reus.cat)... 213.0.28.29\n",
            "Connecting to opendata.reus.cat (opendata.reus.cat)|213.0.28.29|:443... connected.\n",
            "WARNING: cannot verify opendata.reus.cat's certificate, issued by ‘CN=Sectigo RSA Organization Validation Secure Server CA,O=Sectigo Limited,L=Salford,ST=Greater Manchester,C=GB’:\n",
            "  Unable to locally verify the issuer's authority.\n",
            "HTTP request sent, awaiting response... 200 OK\n",
            "Length: unspecified [text/csv]\n",
            "Saving to: ‘ajPublicasReus.csv’\n",
            "\n",
            "ajPublicasReus.csv      [      <=>           ] 362.04K   262KB/s    in 1.4s    \n",
            "\n",
            "2021-03-25 22:19:06 (262 KB/s) - ‘ajPublicasReus.csv’ saved [370728]\n",
            "\n"
          ],
          "name": "stdout"
        }
      ]
    },
    {
      "cell_type": "code",
      "metadata": {
        "colab": {
          "base_uri": "https://localhost:8080/"
        },
        "id": "0VZ6zRkqQYLh",
        "outputId": "130fac94-6fa8-4f8e-9f5a-36d1e98cff4a"
      },
      "source": [
        "!ls -lah"
      ],
      "execution_count": null,
      "outputs": [
        {
          "output_type": "stream",
          "text": [
            "total 8.4M\n",
            "drwxr-xr-x 1 root root 4.0K Mar 25 22:19 .\n",
            "drwxr-xr-x 1 root root 4.0K Mar 25 21:33 ..\n",
            "-rw-r--r-- 1 root root 3.1M Mar 25 21:50 actCultReus.csv\n",
            "-rw-r--r-- 1 root root 1.4M Mar 25 21:36 actEcnReus.csv\n",
            "-rw-r--r-- 1 root root 3.6M Mar 25 21:36 actEcnReusHist.csv\n",
            "-rw-r--r-- 1 root root 363K Mar 25 22:19 ajPublicasReus.csv\n",
            "drwxr-xr-x 4 root root 4.0K Mar 18 13:36 .config\n",
            "drwxr-xr-x 1 root root 4.0K Mar 18 13:36 sample_data\n"
          ],
          "name": "stdout"
        }
      ]
    },
    {
      "cell_type": "code",
      "metadata": {
        "colab": {
          "base_uri": "https://localhost:8080/"
        },
        "id": "j_O62ampQYLi",
        "outputId": "82461f49-a054-426a-cbe1-b48893063abf"
      },
      "source": [
        "! head ajPublicasReus.csv"
      ],
      "execution_count": null,
      "outputs": [
        {
          "output_type": "stream",
          "text": [
            "﻿_id,EXERCICI,ANY PUBLICACIÓ,TIPUS CONVOCATÒRIA,CODI BDNS,MARGINAL,ORDINAL,TIPUS NORMATIVA,CONVOCATÒRIA,IMPORT CONVOCATÒRIA,BENEFICIARI,DATA CONCESSIÓ,IMPORT DEMANAT,IMPORT CONCEDIT,IMPORT JUSTIFICAT,PARTIDA PRESSUPOSTÀRIA,CENTRE GESTOR,SEXE\r\n",
            "1,2018,2018,Altres concessions directes,507879,688199,28,Normativa de Cataluña,\"PROJECTE T'AJUDEM A CRÉIXER, LLAR D'INFANTS BARRUFET CURS 2018-2019\",9535.00,19 BENEFICIARIS,          ,10614.00,9535.00,9535.00,30422-23105-489       ,SERVEIS SOCIALS,\"\"\n",
            "2,2018,2018,Convocatòria per conveni,508076,688199,21,Normativa local,SUBV. LLAR INFANTS EL BARRUFET GENER-JUNY 2018,3790.00,6 BENEFICIARIS,          ,3790.00,3790.00,3790.00,30422-23105-489       ,SERVEIS SOCIALS,\"\"\n",
            "3,2020,2020,Concurrència competitiva,518054,688050,0,Normativa local,FOMENT AL MANTENIMENT D'UN HABITATGE EN PROPIETAT,33839.48,252 BENEFICIARIS,          ,19836.48,19836.48,19547.59,21108-23101-489       ,SERVEIS GENERALS,\"\"\n",
            "4,2020,2020,Concurrència competitiva,518053,688049,0,Normativa local,AJUT ALS USUARIS DEL SERVEI DE RECEPCIÓ OBLIGATÒRIA DE RECOLLIDA D'ESCOMBRARIES 2020,73184.50,331 BENEFICIARIS,          ,38180.50,38180.50,32295.26,21108-23101-489       ,SERVEIS GENERALS,\"\"\n",
            "5,2018,2018,Altres concessions directes,398229,688037,0,Normativa de Cataluña,SUBVENCIÓN DIRECTA A LA LLAR D'INFANTS EL BARRUFET CURSO 2017-18,2604.00,8 BENEFICIARIS,          ,2604.00,2604.00,2604.00,30422-23105-489       ,SERVEIS SOCIALS,\"\"\n",
            "6,2018,2015,Concurrència competitiva,395466,688035,0,Normativa local,\"SUBVENCIONS LLOGUER SOCIAL 2018 \"\"BORSA D'HABITATGE ASSEQUIBLE\"\"\",66007.77,42 BENEFICIARIS,          ,66007.77,66007.77,66007.77,40833-15211-489       ,HABITATGE,\"\"\n",
            "7,2018,2015,Concurrència competitiva,390028,688023,0,Normativa local,FOMENT AL SERVEI PÚBLIC DE PROVEÏMENT I SANEJAMENT D'AIGUA POTABLE 2018,107046.23,989 BENEFICIARIS,          ,108244.51,107029.23,104009.23,30422-23107-489       ,SERVEIS SOCIALS,\"\"\n",
            "8,2018,2018,Altres concessions directes,507937,688027,1,Normativa local,SUBVENCIO DIRECTA CASALS ESTIU 2018,15350.00,85 BENEFICIARIS,          ,11323.00,11087.00,11321.00,30422-23109-489       ,SERVEIS SOCIALS,\"\"\n",
            "9,2018,2015,Altres concessions directes,390006,688024,0,Normativa local,SUBVENCIO POBRESA ENERGETICA 2017-2018,124576.19,782 BENEFICIARIS,          ,124436.19,124436.19,124436.19,30422-23107-489       ,SERVEIS SOCIALS,\"\"\n"
          ],
          "name": "stdout"
        }
      ]
    },
    {
      "cell_type": "code",
      "metadata": {
        "colab": {
          "base_uri": "https://localhost:8080/"
        },
        "id": "Y7ugIzxfQYLn",
        "outputId": "bb88f701-d40f-43a2-bf8f-6208f03a9881"
      },
      "source": [
        "! tail ajPublicasReus.csv"
      ],
      "execution_count": null,
      "outputs": [
        {
          "output_type": "stream",
          "text": [
            "1491,2019,2019,Altres concessions directes,444634,688015,0,Normativa local,NOVENA EDICIÓ PREMI BECA ROSETA MAURI,4000.00,ASSOC PROFESSORS DE DANSA DE LES COMARQUES TARRAGONA,13/03/2019,4000.00,4000.00,4000.00,31425-33000-489       ,CULTURA,\"\"\n",
            "1492,2020,2020,Concurrència competitiva,502281,688019,0,Normativa local,FOMENT DE CASALS D'ESTIU PER A INFANTS DE 3 A 12 ANYS A LA CIUTAT DE REUS,14456.00,AMIPA LA VITXETA,30/11/2020,118.00,118.00,118.00,30919-32630-489       ,EDUCACIÓ,\"\"\n",
            "1493,2020,2020,Concurrència competitiva,502281,688019,0,Normativa local,FOMENT DE CASALS D'ESTIU PER A INFANTS DE 3 A 12 ANYS A LA CIUTAT DE REUS,14456.00,AMIPA LA VITXETA,20/07/2020,1920.00,1920.00,1920.00,30919-32630-489       ,EDUCACIÓ,\"\"\n",
            "1494,2019,2014,Concurrència competitiva,446994,688018,0,Normativa local,FOMENT CASALS ESTIU 2019,33754.51,AMIPA LA VITXETA,17/05/2019,3990.00,3476.00,3476.00,30919-32630-489       ,EDUCACIÓ,\"\"\n",
            "1495,2018,2014,Concurrència competitiva,390914,688027,0,Normativa local,FOMENT ORGANITZACIÓ CASALS D'ESTIU 2018,33021.74,AMIPA LA VITXETA,17/12/2018,1292.00,1292.00,1292.00,30919-32630-489       ,EDUCACIÓ,\"\"\n",
            "1496,2018,2014,Concurrència competitiva,390914,688027,0,Normativa local,FOMENT ORGANITZACIÓ CASALS D'ESTIU 2018,33021.74,AMIPA LA VITXETA,21/05/2018,3010.00,3010.00,3010.00,30919-32630-489       ,EDUCACIÓ,\"\"\n",
            "1497,2020,2020,Convocatòria nominativa,547755,688198,36,Normativa local,PROJECTE INVESTIGACIÓ COVID-19,15000.00,FUNDACIO INSTITUT D INVESTIGACIO SANITARIA PERE VIRGILI,23/12/2020,15000.00,15000.00,0.00,20906-43300-489       ,ECONOMIA I CONEIXEMENT,\"\"\n",
            "1498,2019,2019,Convocatòria per conveni,456096,688199,26,Normativa local,CASAL ESTIU ADAPTAT AMPA CEEP ALBA,27283.82,AMPA ESCOLA ALBA DE REUS,18/12/2019,4400.00,3783.82,4400.00,30919-32630-489       ,EDUCACIÓ,\"\"\n",
            "1499,2019,2019,Convocatòria per conveni,456096,688199,26,Normativa local,CASAL ESTIU ADAPTAT AMPA CEEP ALBA,27283.82,AMPA ESCOLA ALBA DE REUS,14/05/2019,23500.00,23500.00,23500.00,30919-32630-489       ,EDUCACIÓ,\"\"\n",
            "1500,2018,2018,Convocatòria per conveni,403748,688199,7,Normativa de Cataluña,SUBVENCIO CASAL ESTIU ADAPTAT AMPA CEEP ALBA,22262.95,AMPA ESCOLA ALBA DE REUS,13/06/2018,23500.00,22262.95,22262.95,30919-32630-489       ,EDUCACIÓ,\"\"\n"
          ],
          "name": "stdout"
        }
      ]
    },
    {
      "cell_type": "markdown",
      "metadata": {
        "id": "jJ9jvPXwwPjj"
      },
      "source": [
        ""
      ]
    },
    {
      "cell_type": "code",
      "metadata": {
        "id": "EuI1e9WcQYpE"
      },
      "source": [
        "# \n",
        "# "
      ],
      "execution_count": null,
      "outputs": []
    },
    {
      "cell_type": "code",
      "metadata": {
        "id": "gvE2hZjIQYpH"
      },
      "source": [
        "!wget -O muniReus.csv \"h\""
      ],
      "execution_count": null,
      "outputs": []
    },
    {
      "cell_type": "code",
      "metadata": {
        "id": "8clp2kmVQYpJ"
      },
      "source": [
        "!ls -lah"
      ],
      "execution_count": null,
      "outputs": []
    },
    {
      "cell_type": "code",
      "metadata": {
        "id": "-WhjkD_cQYpK"
      },
      "source": [
        "! head .csv.csv"
      ],
      "execution_count": null,
      "outputs": []
    },
    {
      "cell_type": "code",
      "metadata": {
        "id": "N9u0DmxdQYpL"
      },
      "source": [
        "! tail .csv.csv"
      ],
      "execution_count": null,
      "outputs": []
    },
    {
      "cell_type": "code",
      "metadata": {
        "id": "mwFzrWlMQY5N"
      },
      "source": [
        "# \n",
        "# "
      ],
      "execution_count": null,
      "outputs": []
    },
    {
      "cell_type": "code",
      "metadata": {
        "id": "Z-wJg6dHQY5Q"
      },
      "source": [
        "!wget -O muniReus.csv \"h\""
      ],
      "execution_count": null,
      "outputs": []
    },
    {
      "cell_type": "code",
      "metadata": {
        "id": "WA8ahooQQY5R"
      },
      "source": [
        "!ls -lah"
      ],
      "execution_count": null,
      "outputs": []
    },
    {
      "cell_type": "code",
      "metadata": {
        "id": "O6HyXeU4QY5X"
      },
      "source": [
        "! head .csv.csv"
      ],
      "execution_count": null,
      "outputs": []
    },
    {
      "cell_type": "code",
      "metadata": {
        "id": "fGkJmpluQY5Y"
      },
      "source": [
        "! tail .csv.csv"
      ],
      "execution_count": null,
      "outputs": []
    },
    {
      "cell_type": "code",
      "metadata": {
        "id": "2zIqpHvoQZG0"
      },
      "source": [
        "# \n",
        "# "
      ],
      "execution_count": null,
      "outputs": []
    },
    {
      "cell_type": "code",
      "metadata": {
        "id": "efJCVjw0QZG2"
      },
      "source": [
        "!wget -O muniReus.csv \"h\""
      ],
      "execution_count": null,
      "outputs": []
    },
    {
      "cell_type": "code",
      "metadata": {
        "id": "eMbOtShTQZG3"
      },
      "source": [
        "!ls -lah"
      ],
      "execution_count": null,
      "outputs": []
    },
    {
      "cell_type": "code",
      "metadata": {
        "id": "J_2v_7aGQZG3"
      },
      "source": [
        "! head .csv.csv"
      ],
      "execution_count": null,
      "outputs": []
    },
    {
      "cell_type": "code",
      "metadata": {
        "id": "NpAGxEYSQZG4"
      },
      "source": [
        "! tail .csv.csv"
      ],
      "execution_count": null,
      "outputs": []
    },
    {
      "cell_type": "code",
      "metadata": {
        "id": "JSqIOCZHQZRg"
      },
      "source": [
        "# \n",
        "# "
      ],
      "execution_count": null,
      "outputs": []
    },
    {
      "cell_type": "code",
      "metadata": {
        "id": "Wd7Q0a-HQZRi"
      },
      "source": [
        "!wget -O muniReus.csv \"h\""
      ],
      "execution_count": null,
      "outputs": []
    },
    {
      "cell_type": "code",
      "metadata": {
        "id": "SfUtI8fMQZRj"
      },
      "source": [
        "!ls -lah"
      ],
      "execution_count": null,
      "outputs": []
    },
    {
      "cell_type": "code",
      "metadata": {
        "id": "PWGt18H8QZRk"
      },
      "source": [
        "! head .csv.csv"
      ],
      "execution_count": null,
      "outputs": []
    },
    {
      "cell_type": "code",
      "metadata": {
        "id": "M0Ktl7zuQZRl"
      },
      "source": [
        "! tail .csv.csv"
      ],
      "execution_count": null,
      "outputs": []
    }
  ]
}