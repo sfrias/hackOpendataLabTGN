{
  "nbformat": 4,
  "nbformat_minor": 0,
  "metadata": {
    "colab": {
      "name": "sfrias_social.ipynb",
      "provenance": [],
      "collapsed_sections": [],
      "authorship_tag": "ABX9TyOKcL5k24pPUYBwpBSzHvQ1",
      "include_colab_link": true
    },
    "kernelspec": {
      "name": "python3",
      "display_name": "Python 3"
    },
    "language_info": {
      "name": "python"
    }
  },
  "cells": [
    {
      "cell_type": "markdown",
      "metadata": {
        "id": "view-in-github",
        "colab_type": "text"
      },
      "source": [
        "<a href=\"https://colab.research.google.com/github/sfrias/hackOpendataLabTGN/blob/main/sfrias_social.ipynb\" target=\"_parent\"><img src=\"https://colab.research.google.com/assets/colab-badge.svg\" alt=\"Open In Colab\"/></a>"
      ]
    },
    {
      "cell_type": "code",
      "metadata": {
        "id": "8FqqaqMk-Ef1"
      },
      "source": [
        "#! /usr/bin/env python\n",
        "# -*- coding: utf-8 -*-"
      ],
      "execution_count": null,
      "outputs": []
    },
    {
      "cell_type": "markdown",
      "metadata": {
        "id": "sRb_4EqkB-As"
      },
      "source": [
        "# Code License"
      ]
    },
    {
      "cell_type": "markdown",
      "metadata": {
        "id": "0Sl15Sy9B9rw"
      },
      "source": [
        "Authors(incremental for changes):\n",
        "- S.Frias (2021, March)\n",
        "\n",
        "Repo: https://github.com/sfrias/hackOpendataLabTGN/\n",
        "\n",
        "This code content is licensed under GPL 3.0 or any later version\n",
        "\n",
        "https://www.gnu.org/licenses/gpl-3.0.html\n",
        "\n",
        "Only way to make software development safe is to abolish software patents\n",
        "\n",
        "https://www.gnu.org/licenses/quick-guide-gplv3.html\n",
        "\n",
        "Data sources: Open Data, Creative Commons by attribution.\n",
        "\n",
        "Rules: Article 8, Law 37/2007, of 16 November, reuse of public sector information.\n",
        "- Do not distort the meaning of the information or alter its content.\n",
        "- The source of the data must be cited.\n",
        "- Mention must be made of the date of the last update of the information."
      ]
    },
    {
      "cell_type": "markdown",
      "metadata": {
        "id": "k4ycWn20CsF2"
      },
      "source": [
        "### Synthesis"
      ]
    },
    {
      "cell_type": "code",
      "metadata": {
        "id": "NhfDa9vKCVKg"
      },
      "source": [
        "# OpendataLab Tarragona Reus stages.\n",
        "# Goal: knowledge about social impact related to COVID-19 issue.\n",
        "# Rules: use opendata sources, extract knowledge, and render results\n",
        "# First hack: Economic and social reactivation related of Covid-19 at Camp de Tarragona, Tarragona, Catalonia (ES)"
      ],
      "execution_count": null,
      "outputs": []
    },
    {
      "cell_type": "markdown",
      "metadata": {
        "id": "WCgNsBiEEo5G"
      },
      "source": [
        "### Utilities"
      ]
    },
    {
      "cell_type": "code",
      "metadata": {
        "id": "nJb9stncBiN9"
      },
      "source": [
        "# Import and package configuration\n",
        "from google.colab import files"
      ],
      "execution_count": null,
      "outputs": []
    },
    {
      "cell_type": "code",
      "metadata": {
        "id": "rOxT3b6uOmW4"
      },
      "source": [
        "# Montar unidad almacenamiento en cloud de Google colab\n",
        "#from google.colab import drive"
      ],
      "execution_count": null,
      "outputs": []
    },
    {
      "cell_type": "code",
      "metadata": {
        "id": "EMgKl7W8Onh8"
      },
      "source": [
        "#drive.mount('/gdrive')"
      ],
      "execution_count": null,
      "outputs": []
    },
    {
      "cell_type": "code",
      "metadata": {
        "id": "qXguwabuOrvP"
      },
      "source": [
        "#!ls -lah /gdrive/'My Drive'/"
      ],
      "execution_count": null,
      "outputs": []
    },
    {
      "cell_type": "code",
      "metadata": {
        "id": "hbETQ8ZiPDdi"
      },
      "source": [
        "# Subir desde drive a cloud de google para interaccionar con colab.\n",
        "#!cp drive/MyDrive/OpendataLabTGN/hack1/*.* ."
      ],
      "execution_count": null,
      "outputs": []
    },
    {
      "cell_type": "code",
      "metadata": {
        "id": "xlPuau1RBiCH"
      },
      "source": [
        "! ls -lah"
      ],
      "execution_count": null,
      "outputs": []
    },
    {
      "cell_type": "markdown",
      "metadata": {
        "id": "GVBPWuOcyww2"
      },
      "source": [
        "### Home Changes"
      ]
    },
    {
      "cell_type": "code",
      "metadata": {
        "id": "Dr2ThIuNWGgo"
      },
      "source": [
        "# Tarragona: Canvis de casa"
      ],
      "execution_count": null,
      "outputs": []
    },
    {
      "cell_type": "code",
      "metadata": {
        "id": "5n-TuC1CR_PU"
      },
      "source": [
        "!wget -O xcasaSxe.csv \"http://dadesobertes.seu-e.cat/csv/tarragona/00108.csv\""
      ],
      "execution_count": null,
      "outputs": []
    },
    {
      "cell_type": "code",
      "metadata": {
        "id": "UMkE6CZ7R_PY"
      },
      "source": [
        "!ls -lah"
      ],
      "execution_count": null,
      "outputs": []
    },
    {
      "cell_type": "code",
      "metadata": {
        "id": "mMFkFoetR_Pb"
      },
      "source": [
        "! head xcasaSxe.csv"
      ],
      "execution_count": null,
      "outputs": []
    },
    {
      "cell_type": "code",
      "metadata": {
        "id": "-BawHJlvR_Ph"
      },
      "source": [
        "! tail xcasaSxe.csv"
      ],
      "execution_count": null,
      "outputs": []
    },
    {
      "cell_type": "code",
      "metadata": {
        "id": "Og5MdPTrSA7t"
      },
      "source": [
        "!wget -O xcasaDtScc.csv \"http://dadesobertes.seu-e.cat/csv/tarragona/00106.csv\""
      ],
      "execution_count": null,
      "outputs": []
    },
    {
      "cell_type": "code",
      "metadata": {
        "id": "7-NOZHN5SA7u"
      },
      "source": [
        "!ls -lah"
      ],
      "execution_count": null,
      "outputs": []
    },
    {
      "cell_type": "code",
      "metadata": {
        "id": "HtKbJCw6SA7w"
      },
      "source": [
        "! head xcasaDtScc.csv"
      ],
      "execution_count": null,
      "outputs": []
    },
    {
      "cell_type": "code",
      "metadata": {
        "id": "31UeyyEiSA7y"
      },
      "source": [
        "! tail xcasaDtScc.csv"
      ],
      "execution_count": null,
      "outputs": []
    },
    {
      "cell_type": "markdown",
      "metadata": {
        "id": "y3iD28fVy4Xf"
      },
      "source": [
        "### Conflict, discontent\n",
        "\n",
        "Sanctions on restrictions related to covid and authority\n",
        "\n",
        "Complaints vs Actions"
      ]
    },
    {
      "cell_type": "code",
      "metadata": {
        "id": "pI_bWkxaV73p"
      },
      "source": [
        "# Tarragona: Actuacions brigada neteja davant denuncies."
      ],
      "execution_count": null,
      "outputs": []
    },
    {
      "cell_type": "code",
      "metadata": {
        "id": "SFsJQnFVT8Nz"
      },
      "source": [
        "!wget -O Bnet19.csv \"http://dadesobertes.seu-e.cat/csv/tarragona/00606.csv\""
      ],
      "execution_count": null,
      "outputs": []
    },
    {
      "cell_type": "code",
      "metadata": {
        "id": "8QMQ_GpJT8N0"
      },
      "source": [
        "!ls -lah"
      ],
      "execution_count": null,
      "outputs": []
    },
    {
      "cell_type": "code",
      "metadata": {
        "id": "9WgVUmjzT8N2"
      },
      "source": [
        "! head Bnet19.csv"
      ],
      "execution_count": null,
      "outputs": []
    },
    {
      "cell_type": "code",
      "metadata": {
        "id": "Zcxj-HTFT8N4"
      },
      "source": [
        "! tail Bnet19.csv"
      ],
      "execution_count": null,
      "outputs": []
    },
    {
      "cell_type": "code",
      "metadata": {
        "id": "UgroXDe9T9uB"
      },
      "source": [
        "!wget -O Bnet20.csv \"http://dadesobertes.seu-e.cat/csv/tarragona/00611.csv\""
      ],
      "execution_count": null,
      "outputs": []
    },
    {
      "cell_type": "code",
      "metadata": {
        "id": "FJ02yPSaT9uC"
      },
      "source": [
        "!ls -lah"
      ],
      "execution_count": null,
      "outputs": []
    },
    {
      "cell_type": "code",
      "metadata": {
        "id": "er17v3SRT9uE"
      },
      "source": [
        "! head Bnet20.csv"
      ],
      "execution_count": null,
      "outputs": []
    },
    {
      "cell_type": "code",
      "metadata": {
        "id": "5gnlnO_QT9uF"
      },
      "source": [
        "! tail Bnet20.csv"
      ],
      "execution_count": null,
      "outputs": []
    },
    {
      "cell_type": "code",
      "metadata": {
        "id": "6w1D54JLT-TC"
      },
      "source": [
        "!wget -O Bnet21.csv \"http://dadesobertes.seu-e.cat/csv/tarragona/00612.csv\""
      ],
      "execution_count": null,
      "outputs": []
    },
    {
      "cell_type": "code",
      "metadata": {
        "id": "8A9JQlQJT-TG"
      },
      "source": [
        "!ls -lah"
      ],
      "execution_count": null,
      "outputs": []
    },
    {
      "cell_type": "code",
      "metadata": {
        "id": "bqIN0zdeT-TG"
      },
      "source": [
        "! head Bnet21.csv"
      ],
      "execution_count": null,
      "outputs": []
    },
    {
      "cell_type": "code",
      "metadata": {
        "id": "8PB-3doST-TI"
      },
      "source": [
        "! tail Bnet21.csv"
      ],
      "execution_count": null,
      "outputs": []
    },
    {
      "cell_type": "markdown",
      "metadata": {
        "id": "M7pw44X8z_vj"
      },
      "source": [
        "### Cultural activities evolution"
      ]
    },
    {
      "cell_type": "code",
      "metadata": {
        "id": "5SvmQWJTVlIy"
      },
      "source": [
        "# Tarragona: Hauria estat be poder comparar l agenda d'activitats culturals  amb el històric de les mateixes que no s'ha trobat"
      ],
      "execution_count": null,
      "outputs": []
    },
    {
      "cell_type": "markdown",
      "metadata": {
        "id": "ieF6OV6K0Lv6"
      },
      "source": [
        "### Budget"
      ]
    },
    {
      "cell_type": "code",
      "metadata": {
        "id": "LB-q0tc7YHBo"
      },
      "source": [
        "# Cens i despeses per habitant"
      ],
      "execution_count": null,
      "outputs": []
    },
    {
      "cell_type": "code",
      "metadata": {
        "id": "Z2ji1uRuT-5p"
      },
      "source": [
        "!wget -O gesEcEns.csv \"https://seu-e.cat/ca/web/tarragona/dades-obertes?p_p_id=aoctransparenciadadesobertes_WAR_aoctransparenciaportlet&p_p_lifecycle=2&p_p_state=normal&p_p_mode=view&p_p_cacheability=cacheLevelPage&p_p_col_id=column-1&p_p_col_count=1&_aoctransparenciadadesobertes_WAR_aoctransparenciaportlet_filterEns=CODI_ENS%253A4314820002&_aoctransparenciadadesobertes_WAR_aoctransparenciaportlet_resourceId=16416882-d418-4be6-9b82-ceb398bd60f8&_aoctransparenciadadesobertes_WAR_aoctransparenciaportlet_cmd=downloadEnsCSV&_aoctransparenciadadesobertes_WAR_aoctransparenciaportlet_resourceName=Resum+indicadors+gesti%C3%B3+econ%C3%B2mica+per+ens&_aoctransparenciadadesobertes_WAR_aoctransparenciaportlet_mvcPath=%2Fhtml%2Ftransparenciadadesobertes%2FdatasetResource.jsp\""
      ],
      "execution_count": null,
      "outputs": []
    },
    {
      "cell_type": "code",
      "metadata": {
        "id": "F_qtGs0WT-5q"
      },
      "source": [
        "!ls -lah"
      ],
      "execution_count": null,
      "outputs": []
    },
    {
      "cell_type": "code",
      "metadata": {
        "id": "DHTGFxe7T-5r"
      },
      "source": [
        "! head gesEcEns.csv"
      ],
      "execution_count": null,
      "outputs": []
    },
    {
      "cell_type": "code",
      "metadata": {
        "id": "oMMdHig7T-5r"
      },
      "source": [
        "! tail gesEcEns.csv"
      ],
      "execution_count": null,
      "outputs": []
    },
    {
      "cell_type": "code",
      "metadata": {
        "id": "ajIRab2DfswL"
      },
      "source": [
        "# Pressupostos dels ens municipals de Catalunya per any tipus partida i classificació"
      ],
      "execution_count": null,
      "outputs": []
    },
    {
      "cell_type": "code",
      "metadata": {
        "id": "du6iQ0zqT_H5"
      },
      "source": [
        "!wget -O prptEnsCat.csv \"https://analisi.transparenciacatalunya.cat/api/views/4g9s-gzp6/rows.csv?accessType=DOWNLOAD&sorting=true\""
      ],
      "execution_count": null,
      "outputs": []
    },
    {
      "cell_type": "code",
      "metadata": {
        "id": "qWZbPOM_T_H6"
      },
      "source": [
        "!ls -lah"
      ],
      "execution_count": null,
      "outputs": []
    },
    {
      "cell_type": "code",
      "metadata": {
        "id": "Un0i-jBHT_H8"
      },
      "source": [
        "! head prptEnsCat.csv"
      ],
      "execution_count": null,
      "outputs": []
    },
    {
      "cell_type": "code",
      "metadata": {
        "id": "lTkQvAteT_IB"
      },
      "source": [
        "! tail prptEnsCat.csv"
      ],
      "execution_count": null,
      "outputs": []
    },
    {
      "cell_type": "markdown",
      "metadata": {
        "id": "KadNELgVBdam"
      },
      "source": [
        "### Commercial business"
      ]
    },
    {
      "cell_type": "code",
      "metadata": {
        "id": "gb3z3ZGrgQKB"
      },
      "source": [
        "# Cens d'establiments comercials de Catalunya\n",
        "# https://analisi.transparenciacatalunya.cat/Economia/Servei-de-consulta-del-Cens-d-establiments-comerci/2dhj-q3r8"
      ],
      "execution_count": null,
      "outputs": []
    },
    {
      "cell_type": "code",
      "metadata": {
        "id": "inX4P_tYT_Xi"
      },
      "source": [
        "!wget -O CECC_Cat.csv \"https://analisi.transparenciacatalunya.cat/api/views/2dhj-q3r8/rows.csv?accessType=DOWNLOAD&sorting=true\""
      ],
      "execution_count": null,
      "outputs": []
    },
    {
      "cell_type": "code",
      "metadata": {
        "id": "Im0Tzf5qT_Xj"
      },
      "source": [
        "!ls -lah"
      ],
      "execution_count": null,
      "outputs": []
    },
    {
      "cell_type": "code",
      "metadata": {
        "id": "VZBnLE57T_Xj"
      },
      "source": [
        "! head CECC_Cat.csv"
      ],
      "execution_count": null,
      "outputs": []
    },
    {
      "cell_type": "code",
      "metadata": {
        "id": "UmrDoWGOT_Xl"
      },
      "source": [
        "! tail CECC_Cat.csv"
      ],
      "execution_count": null,
      "outputs": []
    },
    {
      "cell_type": "code",
      "metadata": {
        "id": "aYmXXNnEiIGQ"
      },
      "source": [
        "# Oferta comercial per activitats\n",
        "# https://analisi.transparenciacatalunya.cat/Economia/Servei-de-consulta-de-l-oferta-comercial-per-activ/8my5-y3qb"
      ],
      "execution_count": null,
      "outputs": []
    },
    {
      "cell_type": "code",
      "metadata": {
        "id": "piYmkinYiI8R"
      },
      "source": [
        "!wget -O ofComAct.csv \"https://analisi.transparenciacatalunya.cat/api/views/8my5-y3qb/rows.csv?accessType=DOWNLOAD&sorting=true\""
      ],
      "execution_count": null,
      "outputs": []
    },
    {
      "cell_type": "code",
      "metadata": {
        "id": "vsKZALTCiI8T"
      },
      "source": [
        "!ls -lah"
      ],
      "execution_count": null,
      "outputs": []
    },
    {
      "cell_type": "code",
      "metadata": {
        "id": "9DGRonqIiI8U"
      },
      "source": [
        "! head ofComAct.csv"
      ],
      "execution_count": null,
      "outputs": []
    },
    {
      "cell_type": "code",
      "metadata": {
        "id": "HaL2vwsEiI8W"
      },
      "source": [
        "! tail ofComAct.csv"
      ],
      "execution_count": null,
      "outputs": []
    },
    {
      "cell_type": "code",
      "metadata": {
        "id": "MHgNyPdFiO8I"
      },
      "source": [
        "# Empreses i establiments, per sector i assalariats\n",
        "# https://idescat.cat/pub/?id=ee"
      ],
      "execution_count": null,
      "outputs": []
    },
    {
      "cell_type": "code",
      "metadata": {
        "id": "r11NjUS0iO8K"
      },
      "source": [
        "# Any 2020\n",
        "!wget -O estblSecTreb20.csv \"https://idescat.cat/pub/?id=ee&n=10919&t=202000&f=csv\""
      ],
      "execution_count": null,
      "outputs": []
    },
    {
      "cell_type": "code",
      "metadata": {
        "id": "SxjDVVLXm8YR"
      },
      "source": [
        "! head gestblSecTreb20.csv"
      ],
      "execution_count": null,
      "outputs": []
    },
    {
      "cell_type": "code",
      "metadata": {
        "id": "Z_oWt9Ssm8YU"
      },
      "source": [
        "! tail gestblSecTreb20.csv"
      ],
      "execution_count": null,
      "outputs": []
    },
    {
      "cell_type": "code",
      "metadata": {
        "id": "jZVQcEBllwR2"
      },
      "source": [
        "# Any 2019\n",
        "!wget -O estblSecTreb19.csv \"https://idescat.cat/pub/?id=ee&n=10919&t=201900&f=csv\""
      ],
      "execution_count": null,
      "outputs": []
    },
    {
      "cell_type": "code",
      "metadata": {
        "id": "-5iV18nzm-E6"
      },
      "source": [
        "! head estblSecTreb20.csv"
      ],
      "execution_count": null,
      "outputs": []
    },
    {
      "cell_type": "code",
      "metadata": {
        "id": "1ywkptPCm-E8"
      },
      "source": [
        "! tail estblSecTreb20.csv"
      ],
      "execution_count": null,
      "outputs": []
    },
    {
      "cell_type": "code",
      "metadata": {
        "id": "H4QpJJjgl1MG"
      },
      "source": [
        "# Any 2018\n",
        "!wget -O estblSecTreb18.csv \"https://idescat.cat/pub/?id=ee&n=10919&t=201800&f=csv\""
      ],
      "execution_count": null,
      "outputs": []
    },
    {
      "cell_type": "code",
      "metadata": {
        "id": "CLrVpEaunB1v"
      },
      "source": [
        "! head estblSecTreb20.csv"
      ],
      "execution_count": null,
      "outputs": []
    },
    {
      "cell_type": "code",
      "metadata": {
        "id": "E7EeKKYlnB1x"
      },
      "source": [
        "! estblSecTreb20.csv"
      ],
      "execution_count": null,
      "outputs": []
    },
    {
      "cell_type": "code",
      "metadata": {
        "id": "XBxJv-iqiO8L"
      },
      "source": [
        "!ls -lah"
      ],
      "execution_count": null,
      "outputs": []
    },
    {
      "cell_type": "markdown",
      "metadata": {
        "id": "NMdoYTDFByle"
      },
      "source": [
        "### Confidence and Activity Indicators"
      ]
    },
    {
      "cell_type": "code",
      "metadata": {
        "id": "1hCzH2PoiPp8"
      },
      "source": [
        "# Index de confiança empresarial armonitzat\n",
        "# https://idescat.cat/pub/?id=iceh"
      ],
      "execution_count": null,
      "outputs": []
    },
    {
      "cell_type": "code",
      "metadata": {
        "id": "xupSds1-iPp9"
      },
      "source": [
        "!wget -O IdxConfEmpH.csv \"https://idescat.cat/indicadors/?id=conj&n=10234&col=1&f=csv\""
      ],
      "execution_count": null,
      "outputs": []
    },
    {
      "cell_type": "code",
      "metadata": {
        "id": "SElGOGTmiPp-"
      },
      "source": [
        "!ls -lah"
      ],
      "execution_count": null,
      "outputs": []
    },
    {
      "cell_type": "code",
      "metadata": {
        "id": "zKLGiySiiPp_"
      },
      "source": [
        "! head IdxConfEmpH.csv"
      ],
      "execution_count": null,
      "outputs": []
    },
    {
      "cell_type": "code",
      "metadata": {
        "id": "e3z9qZ3ZiPqC"
      },
      "source": [
        "! tail IdxConfEmpH.csv"
      ],
      "execution_count": null,
      "outputs": []
    },
    {
      "cell_type": "code",
      "metadata": {
        "id": "RxTR-_OviP6k"
      },
      "source": [
        "#  Indicadors d'activitat del sector serveis\n",
        "# https://idescat.cat/pub/?id=iass"
      ],
      "execution_count": null,
      "outputs": []
    },
    {
      "cell_type": "code",
      "metadata": {
        "id": "wedYMIQ9iP6m"
      },
      "source": [
        "!wget -O IdxActSSPrdVneg.csv \"https://idescat.cat/indicadors/?id=conj&n=10267&col=1&f=csv\""
      ],
      "execution_count": null,
      "outputs": []
    },
    {
      "cell_type": "code",
      "metadata": {
        "id": "DWKLQPsLiP6n"
      },
      "source": [
        "!ls -lah"
      ],
      "execution_count": null,
      "outputs": []
    },
    {
      "cell_type": "code",
      "metadata": {
        "id": "H7TLkU6fiP6o"
      },
      "source": [
        "! head IdxActSSPrdVneg.csv"
      ],
      "execution_count": null,
      "outputs": []
    },
    {
      "cell_type": "code",
      "metadata": {
        "id": "FZXTsMV9iP6p"
      },
      "source": [
        "! tail IdxActSSPrdVneg.csv"
      ],
      "execution_count": null,
      "outputs": []
    },
    {
      "cell_type": "markdown",
      "metadata": {
        "id": "UA0EzzAFB9q0"
      },
      "source": [
        "### Local entities"
      ]
    },
    {
      "cell_type": "code",
      "metadata": {
        "id": "i1VVxDRRiQKU"
      },
      "source": [
        "# Reus en Xifres.\n",
        "# https://www.idescat.cat/emex/?id=431233"
      ],
      "execution_count": null,
      "outputs": []
    },
    {
      "cell_type": "code",
      "metadata": {
        "id": "8rbdLAXviQKV"
      },
      "source": [
        "!wget -O muniReus.csv \"https://www.idescat.cat/emex/?id=431233&f=csv\""
      ],
      "execution_count": null,
      "outputs": []
    },
    {
      "cell_type": "code",
      "metadata": {
        "id": "ko_fVSiZiQKW"
      },
      "source": [
        "!ls -lah"
      ],
      "execution_count": null,
      "outputs": []
    },
    {
      "cell_type": "code",
      "metadata": {
        "id": "QPidsaeTiQKX"
      },
      "source": [
        "! head muniReus.csv.csv"
      ],
      "execution_count": null,
      "outputs": []
    },
    {
      "cell_type": "code",
      "metadata": {
        "id": "skyhfkbCiQKX"
      },
      "source": [
        "! tail muniReus.csv.csv"
      ],
      "execution_count": null,
      "outputs": []
    },
    {
      "cell_type": "markdown",
      "metadata": {
        "id": "-wJYH9olwG76"
      },
      "source": [
        "### Subvencions i ajudes públiques"
      ]
    },
    {
      "cell_type": "code",
      "metadata": {
        "id": "pff-0f-tQI2p"
      },
      "source": [
        "# Sistema Nacional de Publicidad de Subvenciones y Ayudas Públicas\n",
        "# https://www.infosubvenciones.es/bdnstrans/GE/es/convocatorias"
      ],
      "execution_count": null,
      "outputs": []
    },
    {
      "cell_type": "code",
      "metadata": {
        "id": "W2151DaWQI2w"
      },
      "source": [
        "!wget -O AjPublicas.csv \"h\""
      ],
      "execution_count": null,
      "outputs": []
    },
    {
      "cell_type": "code",
      "metadata": {
        "id": "1eLHLkfbQI2z"
      },
      "source": [
        "!ls -lah"
      ],
      "execution_count": null,
      "outputs": []
    },
    {
      "cell_type": "code",
      "metadata": {
        "id": "sPjYwdEfQI23"
      },
      "source": [
        "! head AjPublicas.csv.csv"
      ],
      "execution_count": null,
      "outputs": []
    },
    {
      "cell_type": "code",
      "metadata": {
        "id": "QiE6bG8XQI24"
      },
      "source": [
        "! tail AjPublicas.csv.csv"
      ],
      "execution_count": null,
      "outputs": []
    },
    {
      "cell_type": "code",
      "metadata": {
        "id": "X7I9hfuRQYLa"
      },
      "source": [
        "# Reus Govern Obert i Transparència\n",
        "# https://www.seu-e.cat/ca/web/reus"
      ],
      "execution_count": null,
      "outputs": []
    },
    {
      "cell_type": "code",
      "metadata": {
        "id": "rQ_wP4b1QYLf"
      },
      "source": [
        "!wget -O muniReus.csv \"h\""
      ],
      "execution_count": null,
      "outputs": []
    },
    {
      "cell_type": "code",
      "metadata": {
        "id": "0VZ6zRkqQYLh"
      },
      "source": [
        "!ls -lah"
      ],
      "execution_count": null,
      "outputs": []
    },
    {
      "cell_type": "code",
      "metadata": {
        "id": "j_O62ampQYLi"
      },
      "source": [
        "! head .csv.csv"
      ],
      "execution_count": null,
      "outputs": []
    },
    {
      "cell_type": "code",
      "metadata": {
        "id": "Y7ugIzxfQYLn"
      },
      "source": [
        "! tail .csv.csv"
      ],
      "execution_count": null,
      "outputs": []
    },
    {
      "cell_type": "markdown",
      "metadata": {
        "id": "jJ9jvPXwwPjj"
      },
      "source": [
        ""
      ]
    },
    {
      "cell_type": "code",
      "metadata": {
        "id": "EuI1e9WcQYpE"
      },
      "source": [
        "# \n",
        "# "
      ],
      "execution_count": null,
      "outputs": []
    },
    {
      "cell_type": "code",
      "metadata": {
        "id": "gvE2hZjIQYpH"
      },
      "source": [
        "!wget -O muniReus.csv \"h\""
      ],
      "execution_count": null,
      "outputs": []
    },
    {
      "cell_type": "code",
      "metadata": {
        "id": "8clp2kmVQYpJ"
      },
      "source": [
        "!ls -lah"
      ],
      "execution_count": null,
      "outputs": []
    },
    {
      "cell_type": "code",
      "metadata": {
        "id": "-WhjkD_cQYpK"
      },
      "source": [
        "! head .csv.csv"
      ],
      "execution_count": null,
      "outputs": []
    },
    {
      "cell_type": "code",
      "metadata": {
        "id": "N9u0DmxdQYpL"
      },
      "source": [
        "! tail .csv.csv"
      ],
      "execution_count": null,
      "outputs": []
    },
    {
      "cell_type": "code",
      "metadata": {
        "id": "mwFzrWlMQY5N"
      },
      "source": [
        "# \n",
        "# "
      ],
      "execution_count": null,
      "outputs": []
    },
    {
      "cell_type": "code",
      "metadata": {
        "id": "Z-wJg6dHQY5Q"
      },
      "source": [
        "!wget -O muniReus.csv \"h\""
      ],
      "execution_count": null,
      "outputs": []
    },
    {
      "cell_type": "code",
      "metadata": {
        "id": "WA8ahooQQY5R"
      },
      "source": [
        "!ls -lah"
      ],
      "execution_count": null,
      "outputs": []
    },
    {
      "cell_type": "code",
      "metadata": {
        "id": "O6HyXeU4QY5X"
      },
      "source": [
        "! head .csv.csv"
      ],
      "execution_count": null,
      "outputs": []
    },
    {
      "cell_type": "code",
      "metadata": {
        "id": "fGkJmpluQY5Y"
      },
      "source": [
        "! tail .csv.csv"
      ],
      "execution_count": null,
      "outputs": []
    },
    {
      "cell_type": "code",
      "metadata": {
        "id": "2zIqpHvoQZG0"
      },
      "source": [
        "# \n",
        "# "
      ],
      "execution_count": null,
      "outputs": []
    },
    {
      "cell_type": "code",
      "metadata": {
        "id": "efJCVjw0QZG2"
      },
      "source": [
        "!wget -O muniReus.csv \"h\""
      ],
      "execution_count": null,
      "outputs": []
    },
    {
      "cell_type": "code",
      "metadata": {
        "id": "eMbOtShTQZG3"
      },
      "source": [
        "!ls -lah"
      ],
      "execution_count": null,
      "outputs": []
    },
    {
      "cell_type": "code",
      "metadata": {
        "id": "J_2v_7aGQZG3"
      },
      "source": [
        "! head .csv.csv"
      ],
      "execution_count": null,
      "outputs": []
    },
    {
      "cell_type": "code",
      "metadata": {
        "id": "NpAGxEYSQZG4"
      },
      "source": [
        "! tail .csv.csv"
      ],
      "execution_count": null,
      "outputs": []
    },
    {
      "cell_type": "code",
      "metadata": {
        "id": "JSqIOCZHQZRg"
      },
      "source": [
        "# \n",
        "# "
      ],
      "execution_count": null,
      "outputs": []
    },
    {
      "cell_type": "code",
      "metadata": {
        "id": "Wd7Q0a-HQZRi"
      },
      "source": [
        "!wget -O muniReus.csv \"h\""
      ],
      "execution_count": null,
      "outputs": []
    },
    {
      "cell_type": "code",
      "metadata": {
        "id": "SfUtI8fMQZRj"
      },
      "source": [
        "!ls -lah"
      ],
      "execution_count": null,
      "outputs": []
    },
    {
      "cell_type": "code",
      "metadata": {
        "id": "PWGt18H8QZRk"
      },
      "source": [
        "! head .csv.csv"
      ],
      "execution_count": null,
      "outputs": []
    },
    {
      "cell_type": "code",
      "metadata": {
        "id": "M0Ktl7zuQZRl"
      },
      "source": [
        "! tail .csv.csv"
      ],
      "execution_count": null,
      "outputs": []
    }
  ]
}